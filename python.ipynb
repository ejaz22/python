{
 "cells": [
  {
   "cell_type": "markdown",
   "metadata": {},
   "source": [
    "# Python"
   ]
  },
  {
   "cell_type": "code",
   "execution_count": 1,
   "metadata": {},
   "outputs": [],
   "source": [
    "# promises, types of class/static methods\n",
    "# pytest\n",
    "# super() How do you use parent constructer from child constructor, \n",
    "# Can we create multiple constructor in one class\n",
    "# python metaclass\n",
    "# json vs python dict\n",
    "# *args and **args\n",
    "# monkeypatching\n",
    "# collection module\n",
    "# functools module\n",
    "# importlib - Overriding the built-in importer\n",
    "# dunders or magic methods\n",
    "# co-routines with async & wait\n",
    "# building decorators for classes, and build decorators using classes.\n",
    "# Errors and exception handling\n",
    "# Serialization in Python\n",
    "# python professional book review"
   ]
  },
  {
   "cell_type": "markdown",
   "metadata": {},
   "source": [
    "__Q. What are the key difference between python 2 and 3?__\n",
    "\n",
    "1. _Integer division_ : python3 will always return float while python2 output depends on either num or dem value\n",
    "\n",
    "2. _Print function_ : python3 has print function while python2 has print statement\n",
    "\n",
    "3. _xrange functions_ : python3 does nt have xrange fuctions but range fuctions behave like xrange in python3.\n",
    "\n",
    "4. _Leaking list comprehension_ is fixed in python3, the variable in list comprehension is treated as local variable\n",
    "\n",
    "5. _input() method_ is only awailable in python2 while python2 has both input() and raw_input()\n",
    "\n",
    "6. _.next method_ is not available in python3 which python2 has both .next method and next()\n",
    "\n",
    "7. _new-style classes_ exist in python3 while python2 support both classic and new style type of classes.\n",
    "\n",
    "8. _banker rounding_ -round() will return nearest even number, python2 returns float value with python3 returns int\n",
    "\n",
    "9. python2 has reduce() builtin function while in python3 it can be accessed by importing functools method.\n",
    "10. Dictionary looping\n",
    "\n",
    "```python\n",
    "# Python 2\n",
    "for key, value in d.iteritems():\n",
    "\n",
    "#Python 3\n",
    "for key, value in d.items():\n",
    "```   \n"
   ]
  },
  {
   "cell_type": "markdown",
   "metadata": {},
   "source": [
    "__How to use python list as Stack and Queues?__\n",
    "\n",
    "```python\n",
    "\n",
    "# Lists as Stacks (last-in, first-out)\n",
    ">>> stack.append(6)\n",
    ">>> stack.append(7)\n",
    ">>> stack\n",
    "[3, 4, 5, 6, 7]\n",
    ">>> stack.pop()\n",
    "7\n",
    ">>> stack\n",
    "[3, 4, 5, 6]\n",
    ">>> stack.pop()\n",
    "6\n",
    ">>> stack.pop()\n",
    "5\n",
    ">>> stack\n",
    "[3, 4]\n",
    "\n",
    "# Lists as Queues (“first-in, first-out”);\n",
    ">>> from collections import deque\n",
    ">>> queue = deque([\"Eric\", \"John\", \"Michael\"])\n",
    ">>> queue.append(\"Terry\")           # Terry arrives\n",
    ">>> queue.append(\"Graham\")          # Graham arrives\n",
    ">>> queue.popleft()                 # The first to arrive now leaves\n",
    "'Eric'\n",
    ">>> queue.popleft()                 # The second to arrive now leaves\n",
    "'John'\n",
    ">>> queue                           # Remaining queue in order of arrival\n",
    "deque(['Michael', 'Terry', 'Graham'])\n",
    "\n",
    "```"
   ]
  },
  {
   "cell_type": "markdown",
   "metadata": {},
   "source": [
    "__Q What is None in python?__\n",
    "\n",
    "Like True and False, None is an immutable keyword. \n",
    "\n",
    "1. None is the value a function returns when there is no return statement in the function\n",
    "\n",
    "```python\n",
    "def has_no_return():\n",
    "...     pass\n",
    ">>> has_no_return()\n",
    ">>> print(has_no_return())\n",
    "None\n",
    "```\n",
    "\n",
    "2. print() itself has no return value. If you try to print a call to print(), then you’ll get None:\n",
    " \n",
    " ```python\n",
    ">>> print(print(\"Hello, World!\")) # printing a call to print\n",
    "Hello, World!\n",
    "None\n",
    "```"
   ]
  },
  {
   "cell_type": "markdown",
   "metadata": {},
   "source": [
    "__Q. What are the data types in python?__\n",
    "\n",
    "Numeric types: int, long, float, complex.\n",
    "\n",
    "Sequences: String, bytes, byte array, list, tuple.\n",
    "\n",
    "Sets: set, frozen set.\n",
    "\n",
    "Mappings: dict.\n",
    "\n",
    "Other : Boolean\n",
    "\n",
    "Python supports six sequence types, they are:\n",
    "\n",
    "- strings\n",
    "- unicode strings\n",
    "- lists\n",
    "- tuples\n",
    "- buffers\n",
    "- range objects\n"
   ]
  },
  {
   "cell_type": "markdown",
   "metadata": {},
   "source": [
    "__Q. What is the difference between sets and lists in Python?__\n",
    "\n",
    "__SET__\n",
    "\n",
    "A set is a collection data type which is unordered and unindexed, and doesnt allow duplicates.\n",
    "\n",
    "```python\n",
    "newset = {\"one\", \"two\", \"three\"}\n",
    "```\n",
    "\n",
    "- Set does not support indexing i.e you cannot access items in a set by referring to an index. You need to loop through the set items in order to access it.\n",
    "- Sets are mutable\n",
    "- A set can have only immutable elements. eg. it can have tuples but not list or dictionaris\n",
    "- They are useful for checking for duplicates\n",
    "- Set uses hash function to find an element whereas list is an array. Hence finding element in Set is faster than in list.\n",
    "\n",
    "\n",
    "__List__\n",
    "\n",
    "\n",
    "A list is a collection data type which is ordered and changeable.\n",
    "\n",
    "```python\n",
    "newlist =[\"one\", \"two\", \"three\"]\n",
    "```\n",
    "\n",
    "- List supports indexing i.e. you can access the list items by referring to the index number\n",
    "- Lists save elements in the order they are inserted\n",
    "- List can store duplicate values\n",
    "- Lists are mutable.\n",
    "- list are comparatively slow to execute whereas sets are fast.\n"
   ]
  },
  {
   "cell_type": "code",
   "execution_count": 96,
   "metadata": {},
   "outputs": [
    {
     "name": "stdout",
     "output_type": "stream",
     "text": [
      "{0, 1, 2, 3, 4, 5, 6}\n"
     ]
    }
   ],
   "source": [
    "s = set([0,1,2])\n",
    "s.add(3)\n",
    "s.update([4,5,6])\n",
    "print(s)"
   ]
  },
  {
   "cell_type": "markdown",
   "metadata": {},
   "source": [
    "__Q. When do you  use dict, list for set?__\n",
    "\n",
    "\n",
    "A list keeps order, dict and set don't: when you care about order, therefore, you must use list/\n",
    "\n",
    "\n",
    "Tuples are just like lists, but you can't change their values."
   ]
  },
  {
   "cell_type": "markdown",
   "metadata": {},
   "source": [
    "__Q  Why this happens?__"
   ]
  },
  {
   "cell_type": "code",
   "execution_count": 65,
   "metadata": {},
   "outputs": [
    {
     "data": {
      "text/plain": [
       "True"
      ]
     },
     "execution_count": 65,
     "metadata": {},
     "output_type": "execute_result"
    }
   ],
   "source": [
    "a = 256\n",
    "b = 256\n",
    "a is b"
   ]
  },
  {
   "cell_type": "code",
   "execution_count": 66,
   "metadata": {},
   "outputs": [
    {
     "data": {
      "text/plain": [
       "False"
      ]
     },
     "execution_count": 66,
     "metadata": {},
     "output_type": "execute_result"
    }
   ],
   "source": [
    "a = 257\n",
    "b = 257\n",
    "a is b"
   ]
  },
  {
   "cell_type": "markdown",
   "metadata": {},
   "source": [
    "256 is an existing object but 257 isn't\n",
    "\n",
    "When you start up python the numbers from -5 to 256 will be allocated. These numbers are used a lot, so it makes sense just to have them ready."
   ]
  },
  {
   "cell_type": "code",
   "execution_count": 37,
   "metadata": {},
   "outputs": [],
   "source": [
    "# How to get python built in modules\n",
    "import sys\n",
    "#sys.builtin_module_names\n",
    "#dir(__builtins__)\n",
    "#help (__builtins__)"
   ]
  },
  {
   "cell_type": "markdown",
   "metadata": {},
   "source": [
    "__Q. What is the difference between eval() and exec() functions?__\n",
    "\n",
    "The eval() function can only execute Python expressions, while the exec() function can execute any valid Python code. "
   ]
  },
  {
   "cell_type": "code",
   "execution_count": 4,
   "metadata": {},
   "outputs": [
    {
     "name": "stdout",
     "output_type": "stream",
     "text": [
      "1\n",
      "2\n",
      "3\n",
      "4\n",
      "5\n",
      "6\n",
      "7\n",
      "8\n",
      "9\n",
      "10\n"
     ]
    }
   ],
   "source": [
    "# example 1\n",
    "exec('for i in range(1, 11): print(i)')"
   ]
  },
  {
   "cell_type": "code",
   "execution_count": 47,
   "metadata": {},
   "outputs": [
    {
     "data": {
      "text/plain": [
       "3"
      ]
     },
     "execution_count": 47,
     "metadata": {},
     "output_type": "execute_result"
    }
   ],
   "source": [
    "# example 2\n",
    "eval('1 + 2')"
   ]
  },
  {
   "cell_type": "markdown",
   "metadata": {},
   "source": [
    "__Q.What id() function in Python is for?__\n",
    "\n",
    "it prints memory location of the object"
   ]
  },
  {
   "cell_type": "markdown",
   "metadata": {},
   "source": [
    "__Q. What is the Difference between dir() and help()?__\n",
    "\n",
    "\n",
    "help() is a built-in function that can be used to return the Python documentation of a particular object, method, attributes, etc.\n",
    "\n",
    "dir() shows a list of attributes for the object passed in as argument , without an argument it returns the list of names in the current local namespace (similar to locals().keys() ) \n"
   ]
  },
  {
   "cell_type": "markdown",
   "metadata": {},
   "source": [
    "__Q What is the difference between deep copy vs shallow copy?__"
   ]
  },
  {
   "cell_type": "markdown",
   "metadata": {},
   "source": [
    "In Python, Assignment statements do not copy objects, they create bindings between a target and an object. \n",
    "\n",
    "\n",
    "Shallow copies duplicate as little as possible. A shallow copy of a collection is a copy of the collection structure, not the elements. With a shallow copy, two collections now share the individual elements.\n",
    "\n",
    "Deep copies duplicate everything. A deep copy of a collection is two collections with all of the elements in the original collection duplicated."
   ]
  },
  {
   "cell_type": "markdown",
   "metadata": {},
   "source": [
    "__Q What are scopes and namespaces?__"
   ]
  },
  {
   "cell_type": "markdown",
   "metadata": {},
   "source": [
    "Each package, module, class, function and method function owns a \"namespace\" in which variable names are resolved. Plus there's a global namespace that's used if the name isn't in the local namespace.\n",
    "\n",
    "Each variable name is checked in the local namespace (the body of the function, the module, etc.), and then checked in the global namespace.\n",
    "\n",
    "Variables are generally created only in a local namespace. The global and nonlocal statements can create variables in other than the local namespace.\n",
    "\n",
    "When a function, method function, module or package is evaluated (that is, starts execution) a namespace is created. Think of it as an \"evaluation context\". When a function or method function, etc., finishes execution, the namespace is dropped. The variables are dropped. The objects may be dropped, also.\n",
    "\n",
    "\n",
    "Namespaces prevent conflicts between classes, methods and objects with the same name that might have been written by different people."
   ]
  },
  {
   "cell_type": "markdown",
   "metadata": {},
   "source": [
    "__LEGB and scoping rule__"
   ]
  },
  {
   "cell_type": "markdown",
   "metadata": {},
   "source": [
    "LEGB rule is used to decide the order in which the namespaces are to be searched for scope resolution.\n",
    "\n",
    "\n",
    "The scopes are listed below in terms of hierarchy(highest to lowest/narrowest to broadest):\n",
    "\n",
    "- Local — Names assigned in any way within a function (def or lambda), and not declared global in that function\n",
    "\n",
    "- Enclosing-function — Names assigned in the local scope of any and all statically enclosing functions (def or lambda), from inner to outer\n",
    "\n",
    "- Global (module) — Names assigned at the top-level of a module file, or by executing a global statement in a def within the file\n",
    "\n",
    "- Built-in (Python) — Names preassigned in the built-in names module: open, range, SyntaxError, etc\n",
    "\n",
    "```python\n",
    "# Built-in Scope \n",
    "from math import pi \n",
    "  \n",
    "# pi = 'global pi variable' \n",
    "  \n",
    "def outer(): \n",
    "    # pi = 'outer pi variable' \n",
    "    def inner(): \n",
    "        # pi = 'inner pi variable' \n",
    "        print(pi) \n",
    "    inner() \n",
    "```"
   ]
  },
  {
   "cell_type": "markdown",
   "metadata": {},
   "source": [
    "__Q. What wrong with import all?__\n",
    "\n",
    "Importing * from a module imports all functions and classes in namespace, which may clash with the functions that we define by overseleves."
   ]
  },
  {
   "cell_type": "markdown",
   "metadata": {},
   "source": [
    "__Q. What is immutable and mutable in python?__\n",
    "\n",
    "Everything in Python is an object . An object’s mutability is determined by its type. Objects like lists and dictionaries are mutable i.e. you can change their content without changing their identity. Other objects like integers, floats, strings and tuples are objects that can not be changed.\n",
    "\n",
    "- Immutable objects are defined as the objects whose content cannot be changed after the creation.\n",
    "    * Tuple\n",
    "    * Set\n",
    "    * Float\n",
    "    * Frozen\n",
    "    * Str\n",
    "    * Int"
   ]
  },
  {
   "cell_type": "markdown",
   "metadata": {},
   "source": [
    "__Q. What is self in python?__\n",
    "\n",
    "The self in Python represents the instance of the class. It binds the attributes with the given arguments. The use of self makes it easier to distinguish between instance attributes (and methods) from local variables.\n"
   ]
  },
  {
   "cell_type": "code",
   "execution_count": null,
   "metadata": {},
   "outputs": [],
   "source": [
    "class Student:\n",
    "    def __init__(self, name, age):\n",
    "        self.name = name\n",
    "        self.age = age\n",
    "    def student_info(self):\n",
    "        print(\"Name : \", self.name, \" Age : \",self.age)\n"
   ]
  },
  {
   "cell_type": "markdown",
   "metadata": {},
   "source": [
    "You could declare variables within a class without using the self reference , but then those variables would be shared by all instances of that class, which may not be what you intended. \n",
    "\n",
    "\n",
    "\n",
    "In the example above, self.age = age and self.name = name are declaring \"instance variables\" (as opposed to \"class variables\"), the values of which would be unique to the instantiated objects of that class. Otherwise, all students would have the same name and age."
   ]
  },
  {
   "cell_type": "markdown",
   "metadata": {},
   "source": [
    "## List / Tuples / Dict / Set"
   ]
  },
  {
   "cell_type": "markdown",
   "metadata": {},
   "source": [
    "__Q Explain Python dictionaries?__\n",
    "\n",
    "It is a kind of hash table type. They consist of key-value pairs and a dictionary key can be of any Python type but usually strings or numbers.\n",
    "\n",
    "It is an unordered collection of elements. Dictionaries are indexed by keys."
   ]
  },
  {
   "cell_type": "markdown",
   "metadata": {},
   "source": [
    "__Q Difference between del, remove and pop on lists?__\n",
    "\n",
    "pop - Takes Index and returns Value\n",
    "\n",
    "remove - Takes value, removes first occurrence, and returns nothing\n",
    "\n",
    "delete - Takes index, removes value at that index, and returns nothing"
   ]
  },
  {
   "cell_type": "markdown",
   "metadata": {},
   "source": [
    "__Q. When do you use dictionary against a list?__\n",
    "\n",
    "You would only use the Dictionary if you need to map (or associate) keys to values, \n",
    "whereas a List only maps (or associates) positions (or indices) to values."
   ]
  },
  {
   "cell_type": "markdown",
   "metadata": {},
   "source": [
    "__Q. What is a tuple and list?__\n",
    "\n",
    "A tuple is an unchangeable sequence of values.\n",
    "\n",
    "Lists are an data type that allows you to keep a set of iterable item(s). Lists are mutable sequences."
   ]
  },
  {
   "cell_type": "markdown",
   "metadata": {},
   "source": [
    "__Q How do I modify a string in place?__\n",
    "\n",
    "You can't, because strings are immutable. If you need an object with this ability, \n",
    "try converting the string to a list or use the array module:\n",
    "\n",
    "```python\n",
    "s = \"Hello, world\"\n",
    "a = list(s)\n",
    "```"
   ]
  },
  {
   "cell_type": "markdown",
   "metadata": {},
   "source": [
    "__Q. What is a package in Python?__\n",
    "\n",
    "A packages in Python can have sub folders and modules. The package is imported by using import package Statement."
   ]
  },
  {
   "cell_type": "markdown",
   "metadata": {},
   "source": [
    "__Q. List the mutable objects in Python?__\n",
    "\n",
    "Mutable object types can be changed after their creation.\n",
    "\n",
    "- List\n",
    "- Dict\n",
    "- Set\n",
    "- Byte array"
   ]
  },
  {
   "cell_type": "markdown",
   "metadata": {},
   "source": [
    "__Q. List the functional approach that Python is taking.__\n",
    "\n",
    "- map\n",
    "- filter\n",
    "- reduce\n",
    "- lambda\n",
    "- list comprehension"
   ]
  },
  {
   "cell_type": "markdown",
   "metadata": {},
   "source": [
    "## Context Manager"
   ]
  },
  {
   "cell_type": "markdown",
   "metadata": {},
   "source": [
    "__Q. What is context managers? How are they different from try ... finally?__\n",
    "\n",
    "Context managers allow you to allocate and release resources precisely when you want to. The most widely used example of context managers is the with statement. \n",
    "\n",
    "The most common case is a file, database connection object which is also a context manager. An open file behaves as a context manager. Leaving the context will automatically close the file.\n",
    "\n",
    "There are only three relevant methods:\n",
    "\n",
    "__init__() must be present when the context manager is created.\n",
    "\n",
    "__enter__() is called by the with statement, it must return a useful object for interaction in the body of the with.\n",
    "\n",
    "__exit__() is called by the with statement. It will be given exception details as the argument values."
   ]
  },
  {
   "cell_type": "markdown",
   "metadata": {},
   "source": [
    "__Q. Explain the use “with” statement in python?__\n",
    "\n",
    "The with statement simplifies exception handling by encapsulating standard uses of try/finally statements in so-called Context Managers.\n",
    "\n",
    "Most commonly it is used to manage the safe acquisition and release of system resources. Resources are acquired by the with statement and released automatically when execution leaves the with context.\n",
    "\n",
    "Using with effectively can help you avoid resource leaks and make your code easier to read."
   ]
  },
  {
   "cell_type": "markdown",
   "metadata": {},
   "source": [
    "__Q. What's A Negative Index?__\n",
    "\n",
    "Python sequences are indexed with positive numbers and negative numbers. \n",
    "For positive numbers 0 is the first index 1 is the second index and so forth. \n",
    "For negative indices -1 is the last index and -2 is the penultimate (next to last) index and so forth.\n",
    "\n",
    "Using negative indices can be very convenient. For example S[:-1] is all \n",
    "of the string except for its last character, which is useful for removing the trailing newline from a string."
   ]
  },
  {
   "cell_type": "markdown",
   "metadata": {},
   "source": [
    "__Q. What is _init_ in Python?__\n",
    "\n",
    "Equivalent to constructors in OOP terminology, __init__ is a reserved method in Python classes. \n",
    "The __init__ method is called automatically whenever a new object is initiated. \n",
    "This method allocates memory to the new object as soon as it is created. This method can also be used to initialize variables\n",
    "\n",
    "\n",
    "_int_.py is used to import a module in a directory which is called as package import. Usually _init_.py is an empty py file."
   ]
  },
  {
   "cell_type": "markdown",
   "metadata": {},
   "source": [
    "__Q. What is lambda function in Python?__\n",
    "\n",
    "A lambda function is an anonymous function (a function that does not have a name) in Python. \n",
    "To define anonymous functions, we use the ‘lambda’ keyword instead of the ‘def’ keyword, hence the name ‘lambda function’. \n",
    "Lambda functions can have any number of arguments but only one statement."
   ]
  },
  {
   "cell_type": "markdown",
   "metadata": {},
   "source": [
    "__Q. What is the difference between statement and function?__\n",
    "\n",
    "A statement is a syntax construct. A function is an object. There's statements to create functions, like def:\n",
    "\n",
    "```python\n",
    "def Spam(): \n",
    "    pass\n",
    "```\n",
    "\n",
    "So statements are one of the ways to indicate to Python that you want it to create a function. Other than that, there's really not much relation between them."
   ]
  },
  {
   "cell_type": "markdown",
   "metadata": {},
   "source": [
    "__Q.What are the generators in Python?__\n",
    "\n",
    "A generator is simply a function that returns an object on which you can call next, such that for every call it returns some value until it raises a Stop. Iteration exception, signaling that all values have been generated. Such an object is called an iterator. Normal functions return a single value using return, just like in Java. In Python, however, there is an alternative, called yield. Using yield anywhere in a function makes it a generator.\n",
    "\n",
    "_What can you use Python generator functions for?_\n",
    "\n",
    "One of the reasons so use a generator is to make the solution clearer for some kind of solution. The other is to treat results one at a time, avoiding building huge lists of results that you would process separated anyway.\n",
    "\n",
    "_When is it not a good time to use python generators?_\n",
    "\n",
    "Use list instead of a generator when:\n",
    "\n",
    "• You need to access the data multiple times (i.e. cache the results instead of recomputing them)\n",
    "\n",
    "• You need random access (or any access other than forwarding sequential order):\n",
    "\n",
    "• You need to join strings (which requires two passes over the data)"
   ]
  },
  {
   "cell_type": "markdown",
   "metadata": {},
   "source": [
    "__Q. What is Method Resolution Order(MRO)?__\n",
    "\n",
    "The method resolution order (or MRO) tells Python how to search for inherited methods.\n",
    "\n",
    "\n",
    "Every class has an .__mro__ attribute that allows us to inspect the order"
   ]
  },
  {
   "cell_type": "markdown",
   "metadata": {},
   "source": [
    "__Q. What are the ways to select rows from pandas dataframe?__\n",
    "\n",
    "1. Boolean indexing\n",
    "2. positional indexing\n",
    "3. Label indexing\n",
    "4. API df.query()"
   ]
  },
  {
   "cell_type": "markdown",
   "metadata": {},
   "source": [
    "__Q.12. What is tuple unpacking?__\n",
    "\n",
    "Suppose we have a tuple nums=(1,2,3). We can unpack its values into the variables a, b, and c. Here’s how:\n",
    "\n"
   ]
  },
  {
   "cell_type": "code",
   "execution_count": 82,
   "metadata": {},
   "outputs": [
    {
     "data": {
      "text/plain": [
       "(1, 2, 3)"
      ]
     },
     "execution_count": 82,
     "metadata": {},
     "output_type": "execute_result"
    }
   ],
   "source": [
    "nums=(1,2,3)\n",
    "a,b,c=nums\n",
    "a,b,c"
   ]
  },
  {
   "cell_type": "markdown",
   "metadata": {},
   "source": [
    "__Q.11. What is the iterator protocol?__\n",
    "\n",
    "The iterator protocol for Python declares that we must make use of two functions to build an iterator- iter() and next().\n",
    "\n",
    "iter()- To create an iterator\n",
    "next()- To iterate to the next element"
   ]
  },
  {
   "cell_type": "code",
   "execution_count": 81,
   "metadata": {},
   "outputs": [
    {
     "data": {
      "text/plain": [
       "2"
      ]
     },
     "execution_count": 81,
     "metadata": {},
     "output_type": "execute_result"
    }
   ],
   "source": [
    "a=iter([2,4,6,8,10])\n",
    "next(a)"
   ]
  },
  {
   "cell_type": "markdown",
   "metadata": {},
   "source": [
    "__Q.14. What is a frozen set in Python?__\n",
    "\n",
    "Frozen set is a builtin function in python3. A set is a collection of items, where there cannot be any duplicates. A set is also unordered.\n",
    "\n",
    "```python\n",
    "myset={1,3,2,2}\n",
    "myset\n",
    "{1, 2, 3}\n",
    "```\n",
    "\n",
    "This means that we cannot index it.\n",
    "\n",
    "```python\n",
    "myset[0]\n",
    "Traceback (most recent call last):\n",
    "File “<pyshell#197>”, line 1, in <module>\n",
    "myset[0]\n",
    "TypeError: ‘set’ object does not support indexing\n",
    "```\n",
    "\n",
    "However, a set is mutable. A frozen set is immutable. This means we cannot change its values. This also makes it eligible to be used as a key for a dictionary.\n",
    "\n",
    "- tuples are immutable lists, frozensets are immutable sets."
   ]
  },
  {
   "cell_type": "code",
   "execution_count": 15,
   "metadata": {},
   "outputs": [
    {
     "data": {
      "text/plain": [
       "frozenset"
      ]
     },
     "execution_count": 15,
     "metadata": {},
     "output_type": "execute_result"
    }
   ],
   "source": [
    "myset=frozenset([1,3,2,2])\n",
    "myset\n",
    "frozenset({1, 2, 3})\n",
    "\n",
    "type(myset)"
   ]
  },
  {
   "cell_type": "markdown",
   "metadata": {},
   "source": [
    "__Q. I'm getting a maximum recursion depth error for a function. What does this mean? How can I mitigate the problem?__\n",
    "\n",
    "Getting or setting the maximum depth of recursion with \n",
    "\n",
    "```python\n",
    "sys.getrecursionlimit() \n",
    "sys.setrecursionlimit()\n",
    "```\n",
    "\n",
    "We can limit it to prevent a stack overflow caused by infinite recursion."
   ]
  },
  {
   "cell_type": "markdown",
   "metadata": {},
   "source": [
    "## Predict result"
   ]
  },
  {
   "cell_type": "code",
   "execution_count": 19,
   "metadata": {},
   "outputs": [
    {
     "data": {
      "text/plain": [
       "[6, 6, 6, 6]"
      ]
     },
     "execution_count": 19,
     "metadata": {},
     "output_type": "execute_result"
    }
   ],
   "source": [
    "# predict result\n",
    "def multiplexers ():\n",
    "    return [lambda n: index * n for index in range (4)]\n",
    "\n",
    "[m (2) for m in multiplexers ()]"
   ]
  },
  {
   "cell_type": "markdown",
   "metadata": {},
   "source": [
    "Functions created with a lambda expression are in no way special and the same behavior is exhibited by functions created using an ordinary def.\n",
    "\n",
    "The reason for this is that Python’s closures are late binding. This means that the values of variables used in closures are looked up at the time the inner function is called. So as a result, when any of the functions returned by multipliers() are called, the value of i is looked up in the surrounding scope at that time. By then, regardless of which of the returned functions is called, the for loop has completed and i is left with its final value of 3. Therefore, every returned function multiplies the value it is passed by 3, so since a value of 2 is passed in the above code, they all return a value of 6 (i.e., 3 x 2)"
   ]
  },
  {
   "cell_type": "code",
   "execution_count": 20,
   "metadata": {},
   "outputs": [
    {
     "data": {
      "text/plain": [
       "[1, 1]"
      ]
     },
     "execution_count": 20,
     "metadata": {},
     "output_type": "execute_result"
    }
   ],
   "source": [
    "# predict results\n",
    "def fast (items= []):\n",
    "    items.append (1)\n",
    "    return items\n",
    "\n",
    "fast()\n",
    "fast()"
   ]
  },
  {
   "cell_type": "code",
   "execution_count": 21,
   "metadata": {},
   "outputs": [
    {
     "data": {
      "text/plain": [
       "[1]"
      ]
     },
     "execution_count": 21,
     "metadata": {},
     "output_type": "execute_result"
    }
   ],
   "source": [
    "# \n",
    "fast(items=[])"
   ]
  },
  {
   "cell_type": "code",
   "execution_count": null,
   "metadata": {},
   "outputs": [],
   "source": [
    "# predict result\n",
    "keyword = 'aeioubcdfg'\n",
    "print( keyword [:3] + keyword [3:])"
   ]
  },
  {
   "cell_type": "code",
   "execution_count": null,
   "metadata": {},
   "outputs": [],
   "source": [
    "# Produce A List With Unique Elements From A List With Duplicate Elements\n",
    "duplicates = ['a','b','c','d','d','d','e','a','b','f','g','g','h']\n",
    "uniqueItems = list(set(duplicates))\n",
    "print (sorted(uniqueItems))"
   ]
  },
  {
   "cell_type": "code",
   "execution_count": 2,
   "metadata": {},
   "outputs": [
    {
     "ename": "NameError",
     "evalue": "name 'n' is not defined",
     "output_type": "error",
     "traceback": [
      "\u001b[1;31m---------------------------------------------------------------------------\u001b[0m",
      "\u001b[1;31mNameError\u001b[0m                                 Traceback (most recent call last)",
      "\u001b[1;32m<ipython-input-2-bdc0a9d7a94d>\u001b[0m in \u001b[0;36m<module>\u001b[1;34m\u001b[0m\n\u001b[0;32m      4\u001b[0m     \u001b[1;32mreturn\u001b[0m \u001b[0mprint\u001b[0m\u001b[1;33m(\u001b[0m\u001b[0mn\u001b[0m\u001b[1;33m*\u001b[0m\u001b[1;36m2\u001b[0m\u001b[1;33m)\u001b[0m\u001b[1;33m\u001b[0m\u001b[1;33m\u001b[0m\u001b[0m\n\u001b[0;32m      5\u001b[0m \u001b[1;33m\u001b[0m\u001b[0m\n\u001b[1;32m----> 6\u001b[1;33m \u001b[0mprint\u001b[0m \u001b[1;33m(\u001b[0m\u001b[0mn\u001b[0m\u001b[1;33m)\u001b[0m\u001b[1;33m\u001b[0m\u001b[1;33m\u001b[0m\u001b[0m\n\u001b[0m",
      "\u001b[1;31mNameError\u001b[0m: name 'n' is not defined"
     ]
    }
   ],
   "source": [
    "#Can You Describe What’s Wrong With The Below Code?\n",
    "\n",
    "def testProc(n = []):\n",
    "    return print(n*2)\n",
    "\n",
    "print (n)"
   ]
  },
  {
   "cell_type": "code",
   "execution_count": 3,
   "metadata": {},
   "outputs": [
    {
     "name": "stdout",
     "output_type": "stream",
     "text": [
      "[1, 2, 3, 1, 2, 3]\n"
     ]
    }
   ],
   "source": [
    "testProc([1, 2, 3])"
   ]
  },
  {
   "cell_type": "code",
   "execution_count": 4,
   "metadata": {},
   "outputs": [
    {
     "name": "stdout",
     "output_type": "stream",
     "text": [
      "[]\n"
     ]
    }
   ],
   "source": [
    "testProc()"
   ]
  },
  {
   "cell_type": "code",
   "execution_count": 5,
   "metadata": {},
   "outputs": [
    {
     "data": {
      "text/plain": [
       "[]"
      ]
     },
     "execution_count": 5,
     "metadata": {},
     "output_type": "execute_result"
    }
   ],
   "source": [
    "# predict output\n",
    "List = ['a', 'b', 'c', 'd', 'e']\n",
    "List [10:] # slicing does not throw error while index selection throws 'list index out of range'"
   ]
  },
  {
   "cell_type": "code",
   "execution_count": 6,
   "metadata": {},
   "outputs": [
    {
     "ename": "IndexError",
     "evalue": "list index out of range",
     "output_type": "error",
     "traceback": [
      "\u001b[1;31m---------------------------------------------------------------------------\u001b[0m",
      "\u001b[1;31mIndexError\u001b[0m                                Traceback (most recent call last)",
      "\u001b[1;32m<ipython-input-6-9b7b76e679c5>\u001b[0m in \u001b[0;36m<module>\u001b[1;34m\u001b[0m\n\u001b[1;32m----> 1\u001b[1;33m \u001b[0mList\u001b[0m\u001b[1;33m[\u001b[0m\u001b[1;36m10\u001b[0m\u001b[1;33m]\u001b[0m \u001b[1;31m# it will throw an error\u001b[0m\u001b[1;33m\u001b[0m\u001b[1;33m\u001b[0m\u001b[0m\n\u001b[0m",
      "\u001b[1;31mIndexError\u001b[0m: list index out of range"
     ]
    }
   ],
   "source": [
    "List[10] # it will throw an error"
   ]
  },
  {
   "cell_type": "code",
   "execution_count": null,
   "metadata": {},
   "outputs": [],
   "source": [
    "# how to find the methods of an object\n",
    "dir(List)"
   ]
  },
  {
   "cell_type": "code",
   "execution_count": null,
   "metadata": {},
   "outputs": [],
   "source": [
    "List.__mul__(2) # __mul__ is call a magic method of list"
   ]
  },
  {
   "cell_type": "code",
   "execution_count": null,
   "metadata": {},
   "outputs": [],
   "source": [
    "# predict output\n",
    "r = lambda q: q * 2\n",
    "s = lambda q: q * 3\n",
    "x = 2\n",
    "x = r(x) \n",
    "x = s(x) \n",
    "x = r(x) "
   ]
  },
  {
   "cell_type": "code",
   "execution_count": null,
   "metadata": {},
   "outputs": [],
   "source": [
    "x"
   ]
  },
  {
   "cell_type": "code",
   "execution_count": null,
   "metadata": {},
   "outputs": [],
   "source": [
    "# predict output\n",
    "a = True\n",
    "b = False\n",
    "c = False\n",
    "  \n",
    "if c or b and a: \n",
    "    print (\"GEEKSFORGEEKS\")\n",
    "else: \n",
    "    print (\"geeksforgeeks\")"
   ]
  },
  {
   "cell_type": "markdown",
   "metadata": {},
   "source": [
    "AND operator has higher precedence than OR operator. So, it is evaluated first."
   ]
  },
  {
   "cell_type": "code",
   "execution_count": null,
   "metadata": {},
   "outputs": [],
   "source": [
    "# predict output\n",
    "x = ['ab', 'cd']\n",
    "list(map(list, x))"
   ]
  },
  {
   "cell_type": "code",
   "execution_count": null,
   "metadata": {},
   "outputs": [],
   "source": [
    "# predict output\n",
    "for i in range(5):\n",
    "    if i==5:\n",
    "        break\n",
    "    else:\n",
    "        print(i)"
   ]
  },
  {
   "cell_type": "code",
   "execution_count": null,
   "metadata": {},
   "outputs": [],
   "source": [
    "# predic output\n",
    "class Cls:\n",
    "    def __init__(self,id):\n",
    "        self.id = str(id)\n",
    "        id = '111'"
   ]
  },
  {
   "cell_type": "code",
   "execution_count": null,
   "metadata": {},
   "outputs": [],
   "source": [
    "obj = Cls(11)  # \n",
    "print (obj.id)"
   ]
  },
  {
   "cell_type": "code",
   "execution_count": null,
   "metadata": {},
   "outputs": [],
   "source": [
    "object"
   ]
  },
  {
   "cell_type": "code",
   "execution_count": null,
   "metadata": {},
   "outputs": [],
   "source": [
    "type(object)"
   ]
  },
  {
   "cell_type": "code",
   "execution_count": null,
   "metadata": {},
   "outputs": [],
   "source": [
    "dir(obj)"
   ]
  },
  {
   "cell_type": "code",
   "execution_count": 79,
   "metadata": {},
   "outputs": [
    {
     "name": "stdout",
     "output_type": "stream",
     "text": [
      "6\n",
      "5\n",
      "4\n",
      "4\n"
     ]
    }
   ],
   "source": [
    "# predict output\n",
    "a = [6,5,4,3]\n",
    "for a[-1] in a:\n",
    "    print (a[-1])"
   ]
  },
  {
   "cell_type": "code",
   "execution_count": 80,
   "metadata": {},
   "outputs": [
    {
     "data": {
      "text/plain": [
       "[6, 5, 4, 4]"
      ]
     },
     "execution_count": 80,
     "metadata": {},
     "output_type": "execute_result"
    }
   ],
   "source": [
    "a"
   ]
  },
  {
   "cell_type": "code",
   "execution_count": null,
   "metadata": {},
   "outputs": [],
   "source": [
    "y = (i for i in range(3))"
   ]
  },
  {
   "cell_type": "code",
   "execution_count": null,
   "metadata": {},
   "outputs": [],
   "source": [
    "type(y)"
   ]
  },
  {
   "cell_type": "code",
   "execution_count": null,
   "metadata": {},
   "outputs": [],
   "source": [
    "next(y)"
   ]
  },
  {
   "cell_type": "code",
   "execution_count": 77,
   "metadata": {},
   "outputs": [],
   "source": [
    "# predict output\n",
    "from functools import reduce\n",
    "def sum(seq):\n",
    "    def add(x,y):\n",
    "        return x+y\n",
    "    return reduce(add,seq,0)"
   ]
  },
  {
   "cell_type": "code",
   "execution_count": 78,
   "metadata": {},
   "outputs": [
    {
     "data": {
      "text/plain": [
       "3"
      ]
     },
     "execution_count": 78,
     "metadata": {},
     "output_type": "execute_result"
    }
   ],
   "source": [
    "sum(range(3))"
   ]
  },
  {
   "cell_type": "code",
   "execution_count": 72,
   "metadata": {},
   "outputs": [
    {
     "data": {
      "text/plain": [
       "True"
      ]
     },
     "execution_count": 72,
     "metadata": {},
     "output_type": "execute_result"
    }
   ],
   "source": [
    "# predict output\n",
    "n1 = 'good'\n",
    "n2 = 'good'\n",
    "id(n1) == id(n2)"
   ]
  },
  {
   "cell_type": "code",
   "execution_count": 73,
   "metadata": {},
   "outputs": [],
   "source": [
    "# predict output\n",
    "class Count:\n",
    "    def __init__(self,count=0):\n",
    "        self.__count = count"
   ]
  },
  {
   "cell_type": "code",
   "execution_count": 74,
   "metadata": {},
   "outputs": [],
   "source": [
    "c1 = Count(2)\n",
    "c2 = Count(2)"
   ]
  },
  {
   "cell_type": "code",
   "execution_count": 75,
   "metadata": {},
   "outputs": [
    {
     "data": {
      "text/plain": [
       "False"
      ]
     },
     "execution_count": 75,
     "metadata": {},
     "output_type": "execute_result"
    }
   ],
   "source": [
    "id(c1)== id(c2)"
   ]
  },
  {
   "cell_type": "code",
   "execution_count": 76,
   "metadata": {},
   "outputs": [
    {
     "ename": "NameError",
     "evalue": "name 'count' is not defined",
     "output_type": "error",
     "traceback": [
      "\u001b[1;31m---------------------------------------------------------------------------\u001b[0m",
      "\u001b[1;31mNameError\u001b[0m                                 Traceback (most recent call last)",
      "\u001b[1;32m<ipython-input-76-26780ddf2751>\u001b[0m in \u001b[0;36m<module>\u001b[1;34m\u001b[0m\n\u001b[1;32m----> 1\u001b[1;33m \u001b[0mcount\u001b[0m\u001b[1;33m\u001b[0m\u001b[1;33m\u001b[0m\u001b[0m\n\u001b[0m",
      "\u001b[1;31mNameError\u001b[0m: name 'count' is not defined"
     ]
    }
   ],
   "source": [
    "count"
   ]
  },
  {
   "cell_type": "code",
   "execution_count": null,
   "metadata": {},
   "outputs": [],
   "source": [
    "for i in range(10,5,-1):\n",
    "    print(i)"
   ]
  },
  {
   "cell_type": "code",
   "execution_count": null,
   "metadata": {},
   "outputs": [],
   "source": [
    "def check():\n",
    "    list1 = [1,2,3,4]\n",
    "    list2 = list1  #  assignment results in same id\n",
    "    list3 = list1[:] # slicing method results in different ids\n",
    "    print(id(list2)==id(list3), list2==list3)\n",
    "    "
   ]
  },
  {
   "cell_type": "code",
   "execution_count": null,
   "metadata": {},
   "outputs": [],
   "source": [
    "check()"
   ]
  },
  {
   "cell_type": "code",
   "execution_count": null,
   "metadata": {},
   "outputs": [],
   "source": [
    "def foo(i,x=[]):\n",
    "    x.append(i)\n",
    "    print(id(x))\n",
    "    return x"
   ]
  },
  {
   "cell_type": "code",
   "execution_count": null,
   "metadata": {},
   "outputs": [],
   "source": [
    "for i in range(2):print (foo(i))"
   ]
  },
  {
   "cell_type": "code",
   "execution_count": null,
   "metadata": {},
   "outputs": [],
   "source": [
    "i"
   ]
  },
  {
   "cell_type": "code",
   "execution_count": null,
   "metadata": {},
   "outputs": [],
   "source": [
    "# predict output\n",
    "def foo():\n",
    "    total+=1\n",
    "    return total"
   ]
  },
  {
   "cell_type": "code",
   "execution_count": null,
   "metadata": {},
   "outputs": [],
   "source": [
    "total = 0\n",
    "print(foo())"
   ]
  },
  {
   "cell_type": "code",
   "execution_count": null,
   "metadata": {},
   "outputs": [],
   "source": [
    "t = [1,2,3,4]\n",
    "t.append(5)"
   ]
  },
  {
   "cell_type": "code",
   "execution_count": null,
   "metadata": {},
   "outputs": [],
   "source": [
    "print(t)"
   ]
  },
  {
   "cell_type": "code",
   "execution_count": null,
   "metadata": {},
   "outputs": [],
   "source": [
    "for j in [1,2,3,4][::-1]:\n",
    "    print (j)"
   ]
  },
  {
   "cell_type": "code",
   "execution_count": null,
   "metadata": {},
   "outputs": [],
   "source": [
    "[i+j for i in 'bcd' for j in 'ef']"
   ]
  },
  {
   "cell_type": "code",
   "execution_count": null,
   "metadata": {},
   "outputs": [],
   "source": [
    "x = ['ab', 'cd']\n",
    "for i in x:\n",
    "    i.upper()\n",
    "print(x)"
   ]
  },
  {
   "cell_type": "code",
   "execution_count": null,
   "metadata": {},
   "outputs": [],
   "source": [
    "x = ['ab', 'cd']\n",
    "for i in x:\n",
    "    x.append(i.upper())\n",
    "print(x)"
   ]
  },
  {
   "cell_type": "code",
   "execution_count": null,
   "metadata": {
    "scrolled": true
   },
   "outputs": [],
   "source": [
    "# predict output\n",
    "a = [print(i) for i in 'my_string' if i not in \"aeiou\"]"
   ]
  },
  {
   "cell_type": "code",
   "execution_count": null,
   "metadata": {},
   "outputs": [],
   "source": [
    "print(a)"
   ]
  },
  {
   "cell_type": "code",
   "execution_count": null,
   "metadata": {},
   "outputs": [],
   "source": [
    "def f(): \n",
    "    global x\n",
    "    x=4"
   ]
  },
  {
   "cell_type": "code",
   "execution_count": null,
   "metadata": {},
   "outputs": [],
   "source": [
    "x=1"
   ]
  },
  {
   "cell_type": "code",
   "execution_count": null,
   "metadata": {},
   "outputs": [],
   "source": [
    "f()"
   ]
  },
  {
   "cell_type": "code",
   "execution_count": null,
   "metadata": {},
   "outputs": [],
   "source": [
    "x"
   ]
  },
  {
   "cell_type": "code",
   "execution_count": null,
   "metadata": {},
   "outputs": [],
   "source": [
    "a=25\n",
    "globals()['a'] = 5"
   ]
  },
  {
   "cell_type": "code",
   "execution_count": null,
   "metadata": {},
   "outputs": [],
   "source": [
    "print(a)"
   ]
  },
  {
   "cell_type": "code",
   "execution_count": null,
   "metadata": {},
   "outputs": [],
   "source": [
    "locals()['a']"
   ]
  },
  {
   "cell_type": "markdown",
   "metadata": {},
   "source": [
    "The function globals() returns a dictionary of the module namespace, whereas the function locals() returns a dictionary of the current namespace."
   ]
  },
  {
   "cell_type": "code",
   "execution_count": null,
   "metadata": {},
   "outputs": [],
   "source": [
    "e=\"butter\"\n",
    "def f(a): \n",
    "    print(a)+e\n"
   ]
  },
  {
   "cell_type": "code",
   "execution_count": null,
   "metadata": {},
   "outputs": [],
   "source": [
    "f(\"bitter\")"
   ]
  },
  {
   "cell_type": "code",
   "execution_count": null,
   "metadata": {},
   "outputs": [],
   "source": [
    "print(\"n\")+\"l\""
   ]
  },
  {
   "cell_type": "code",
   "execution_count": null,
   "metadata": {},
   "outputs": [],
   "source": [
    "def extendList(val, list=[]):\n",
    "    list.append(val)\n",
    "    return list\n",
    "\n",
    "list1 = extendList(10)\n",
    "list2 = extendList(123,[])\n",
    "list3 = extendList('a')\n",
    "\n",
    "print (\"list1 = %s\" % list1)\n",
    "print (\"list2 = %s\" % list2)\n",
    "print (\"list3 = %s\" % list3)"
   ]
  },
  {
   "cell_type": "markdown",
   "metadata": {},
   "source": [
    "list1 and list3 are therefore operating on the same default list, whereas list2 is operating on a separate list that it created (by passing its own empty list as the value for the list parameter)"
   ]
  },
  {
   "cell_type": "code",
   "execution_count": null,
   "metadata": {},
   "outputs": [],
   "source": [
    "class Parent(object):\n",
    "    x = 1\n",
    "\n",
    "class Child1(Parent):\n",
    "    pass\n",
    "\n",
    "class Child2(Parent):\n",
    "    pass\n",
    "\n",
    "print (Parent.x, Child1.x, Child2.x)\n",
    "Child1.x = 2\n",
    "print (Parent.x, Child1.x, Child2.x)\n",
    "Parent.x = 3\n",
    "print (Parent.x, Child1.x, Child2.x)"
   ]
  },
  {
   "cell_type": "code",
   "execution_count": null,
   "metadata": {},
   "outputs": [],
   "source": [
    "def div1(x,y):\n",
    "    print (\"%s/%s = %s\" % (x, y, x/y))\n",
    "    \n",
    "def div2(x,y):\n",
    "    print (\"%s//%s = %s\" % (x, y, x//y))\n",
    "\n",
    "div1(5,2)\n",
    "div1(5.,2)\n",
    "div2(5,2)\n",
    "div2(5.,2.)"
   ]
  },
  {
   "cell_type": "markdown",
   "metadata": {},
   "source": [
    "__Q. Create a new list of the town names using for loops... using list comprehensions... using the map() function.__"
   ]
  },
  {
   "cell_type": "code",
   "execution_count": null,
   "metadata": {},
   "outputs": [],
   "source": [
    "\n",
    "towns = [{'name': 'Manchester', 'population': 58241}, \n",
    "         {'name': 'Coventry', 'population': 12435},\n",
    "         {'name': 'South Windsor', 'population': 25709}]\n",
    "\n",
    "# using for loops\n",
    "\n",
    "town_names = []\n",
    "for town in towns:\n",
    "    town_names.append(town.get('name'))\n",
    "    "
   ]
  },
  {
   "cell_type": "code",
   "execution_count": null,
   "metadata": {},
   "outputs": [],
   "source": [
    "town_names"
   ]
  },
  {
   "cell_type": "code",
   "execution_count": null,
   "metadata": {},
   "outputs": [],
   "source": [
    "[town.get('name') for town in towns]"
   ]
  },
  {
   "cell_type": "code",
   "execution_count": null,
   "metadata": {},
   "outputs": [],
   "source": [
    "t = map(lambda town: town.get('name'),towns)\n",
    "print(list(t))"
   ]
  },
  {
   "cell_type": "code",
   "execution_count": null,
   "metadata": {},
   "outputs": [],
   "source": [
    "type(town)"
   ]
  },
  {
   "cell_type": "code",
   "execution_count": null,
   "metadata": {},
   "outputs": [],
   "source": [
    "x = 'prep'\n",
    "for i in range(len(x)):\n",
    "    print(i)"
   ]
  },
  {
   "cell_type": "code",
   "execution_count": null,
   "metadata": {},
   "outputs": [],
   "source": [
    "def myfunc(a):\n",
    "    a = a + 2\n",
    "    a = a * 2\n",
    "    return a\n",
    " \n",
    "print (myfunc(2))"
   ]
  },
  {
   "cell_type": "code",
   "execution_count": null,
   "metadata": {},
   "outputs": [],
   "source": [
    "def func(n=[]):pass"
   ]
  },
  {
   "cell_type": "code",
   "execution_count": null,
   "metadata": {},
   "outputs": [],
   "source": [
    "func([1,2,3])"
   ]
  },
  {
   "cell_type": "code",
   "execution_count": null,
   "metadata": {},
   "outputs": [],
   "source": [
    "func()"
   ]
  },
  {
   "cell_type": "code",
   "execution_count": null,
   "metadata": {},
   "outputs": [],
   "source": []
  },
  {
   "cell_type": "code",
   "execution_count": null,
   "metadata": {},
   "outputs": [],
   "source": [
    "# What will be the output of following python code?\n",
    "towns = [\n",
    "         {'name': 'Manchester', 'population': 58241}, \n",
    "         {'name': 'Coventry', 'population': 12435},\n",
    "         {'name': 'South Windsor', 'population': 25709}\n",
    "        ]\n",
    "\n",
    "t = map(lambda town: town.get('name'),towns)\n",
    "print(list(t))\n",
    "\n",
    "a. ['Manchester','Coventry','South Windsor']\n",
    "b. ['population','population','population']\n",
    "c. [58241,12435,25709]\n",
    "d. [None,None,None]"
   ]
  },
  {
   "cell_type": "code",
   "execution_count": null,
   "metadata": {},
   "outputs": [],
   "source": [
    "# What will the output of following python code?\n",
    "map_iterator = map(None, 'abc')\n",
    "next(map_iterator)\n",
    "\n",
    "a. abc\n",
    "b. cba\n",
    "d. None\n",
    "e. it will throw an error"
   ]
  },
  {
   "cell_type": "code",
   "execution_count": null,
   "metadata": {},
   "outputs": [],
   "source": [
    "# what will be the output of following python code?\n",
    "def mx():\n",
    "    return [lambda n: index * n for index in range(4)]\n",
    "\n",
    "[m(2) for m in mx()]\n",
    "\n",
    "a. [2,3,4,5]\n",
    "b. [5,4,3,2]\n",
    "c. [6,6,6,6]\n",
    "d  [2,2,2,2]"
   ]
  },
  {
   "cell_type": "code",
   "execution_count": null,
   "metadata": {},
   "outputs": [],
   "source": [
    "#Q. What will be output of following python code\n",
    "\n",
    "print([print('Hello World')])\n",
    "\n",
    "a. [print('Hello World')]\n",
    "b. Hello World, [None]\n",
    "c. print('Hello World')\n",
    "d. It will throw an error"
   ]
  },
  {
   "cell_type": "code",
   "execution_count": null,
   "metadata": {},
   "outputs": [],
   "source": [
    "# What will be output of following code?\n",
    "\n",
    ">>i=1\n",
    ">>[i for i in range(5)]\n",
    ">>[0,1,2,3,4]\n",
    ">>print(i)\n",
    "\n",
    "a. 4\n",
    "b. 1\n",
    "c. <class 'range'>\n",
    "d. None\n"
   ]
  },
  {
   "cell_type": "code",
   "execution_count": null,
   "metadata": {},
   "outputs": [],
   "source": [
    "# Predict the output\n",
    ">>num=input(\"Enter number:\")\n",
    ">>Enter number:100\n",
    ">>print(num*2)\n",
    "\n",
    "a. 200\n",
    "b. '100100'\n",
    "c. can't multiply sequence by non-int of type 'str'\n",
    "d. None"
   ]
  },
  {
   "cell_type": "code",
   "execution_count": null,
   "metadata": {},
   "outputs": [],
   "source": [
    "# Which Of The Following Statements Is Most Accurate For The Declaration x = Obj()?\n",
    "\n",
    "A. x contains an int value.\n",
    "B. x contains an object of the Obj type.\n",
    "C. x contains a reference to a Obj object.\n",
    "D. You can assign an int value to x."
   ]
  },
  {
   "cell_type": "code",
   "execution_count": null,
   "metadata": {},
   "outputs": [],
   "source": [
    "# What will be output of following python code?\n",
    "\n",
    "class Sales: \n",
    "    def __init__(self, id): \n",
    "        self.id = id \n",
    "        id = 100 \n",
    "        \n",
    "val = Sales(123) \n",
    "print (val.id)\n",
    "\n",
    "A. SyntaxError, this program will not run\n",
    "B. 100\n",
    "C. 123\n",
    "D. None of the above"
   ]
  },
  {
   "cell_type": "code",
   "execution_count": null,
   "metadata": {},
   "outputs": [],
   "source": [
    "# What will be output of followin code?\n",
    "def printer(text):\n",
    "    print(text)\n",
    "    \n",
    "obj = printer\n",
    "obj('hello')"
   ]
  },
  {
   "cell_type": "code",
   "execution_count": null,
   "metadata": {},
   "outputs": [],
   "source": [
    "#Q Prdict the output?\n",
    "\n",
    "a = [[]]*3\n",
    "a[1].append(1)\n",
    "print(a)\n",
    "\n",
    "a. [[0], [1], [0]]\n",
    "b. [[1], [1], [1]]\n",
    "c. [[], [], []]\n",
    "d. None of the above"
   ]
  },
  {
   "cell_type": "code",
   "execution_count": null,
   "metadata": {},
   "outputs": [],
   "source": [
    "def Foo(): \n",
    "    yield 42\n",
    "    return 666"
   ]
  },
  {
   "cell_type": "code",
   "execution_count": null,
   "metadata": {},
   "outputs": [],
   "source": [
    "a = Foo()"
   ]
  },
  {
   "cell_type": "code",
   "execution_count": null,
   "metadata": {},
   "outputs": [],
   "source": [
    "print(a)"
   ]
  },
  {
   "cell_type": "code",
   "execution_count": null,
   "metadata": {},
   "outputs": [],
   "source": [
    "next(a)"
   ]
  },
  {
   "cell_type": "code",
   "execution_count": null,
   "metadata": {},
   "outputs": [],
   "source": [
    "c = Foo()"
   ]
  },
  {
   "cell_type": "code",
   "execution_count": null,
   "metadata": {},
   "outputs": [],
   "source": [
    "c"
   ]
  },
  {
   "cell_type": "code",
   "execution_count": null,
   "metadata": {},
   "outputs": [],
   "source": [
    "class C:\n",
    "    pass\n",
    "\n",
    "type (C ())\n"
   ]
  },
  {
   "cell_type": "code",
   "execution_count": null,
   "metadata": {},
   "outputs": [],
   "source": [
    "type (C)"
   ]
  },
  {
   "cell_type": "code",
   "execution_count": null,
   "metadata": {},
   "outputs": [],
   "source": [
    "10"
   ]
  },
  {
   "cell_type": "code",
   "execution_count": null,
   "metadata": {},
   "outputs": [],
   "source": [
    "_"
   ]
  },
  {
   "cell_type": "code",
   "execution_count": null,
   "metadata": {},
   "outputs": [],
   "source": [
    "print(_)"
   ]
  },
  {
   "cell_type": "code",
   "execution_count": null,
   "metadata": {},
   "outputs": [],
   "source": [
    "# predict output\n",
    "\n",
    "class parent:\n",
    "    def __init__(self, param):\n",
    "        self.v1 = param\n",
    "    \n",
    "class child:\n",
    "    def __init__(self, param):\n",
    "        self.v2 = param\n",
    "    \n",
    "obj = child(11)\n",
    "print(obj.v1 + \" \" + obj.v2)\n",
    "\n"
   ]
  },
  {
   "cell_type": "code",
   "execution_count": 1,
   "metadata": {},
   "outputs": [
    {
     "data": {
      "text/plain": [
       "[4, 3, 2]"
      ]
     },
     "execution_count": 1,
     "metadata": {},
     "output_type": "execute_result"
    }
   ],
   "source": [
    "# prdedic the output\n",
    "a = [1,2,3,4,5]\n",
    "a[3:0:-1]"
   ]
  },
  {
   "cell_type": "markdown",
   "metadata": {},
   "source": [
    "### 'is' and '==' operator"
   ]
  },
  {
   "cell_type": "markdown",
   "metadata": {},
   "source": [
    "The is operator compares the identity of two objects while the == operator compares the values of two objects. \n",
    "\n",
    "\n",
    "The == operator is used when the values of two operands are equal, then the condition becomes true.\n",
    "\n",
    "The is operator evaluates to true if the variables on either side of the operator point to the same object."
   ]
  },
  {
   "cell_type": "code",
   "execution_count": 55,
   "metadata": {},
   "outputs": [
    {
     "data": {
      "text/plain": [
       "True"
      ]
     },
     "execution_count": 55,
     "metadata": {},
     "output_type": "execute_result"
    }
   ],
   "source": [
    "a = 256\n",
    "b = 256\n",
    "a is b"
   ]
  },
  {
   "cell_type": "code",
   "execution_count": 62,
   "metadata": {},
   "outputs": [
    {
     "data": {
      "text/plain": [
       "False"
      ]
     },
     "execution_count": 62,
     "metadata": {},
     "output_type": "execute_result"
    }
   ],
   "source": [
    "a = 257\n",
    "b = 257\n",
    "a is b"
   ]
  },
  {
   "cell_type": "code",
   "execution_count": 57,
   "metadata": {},
   "outputs": [],
   "source": [
    "L = []\n",
    "L.append(1)\n"
   ]
  },
  {
   "cell_type": "code",
   "execution_count": 58,
   "metadata": {},
   "outputs": [
    {
     "data": {
      "text/plain": [
       "True"
      ]
     },
     "execution_count": 58,
     "metadata": {},
     "output_type": "execute_result"
    }
   ],
   "source": [
    "L == [1] # == if the objects referred to by the variables are equal."
   ]
  },
  {
   "cell_type": "code",
   "execution_count": 59,
   "metadata": {},
   "outputs": [
    {
     "data": {
      "text/plain": [
       "False"
      ]
     },
     "execution_count": 59,
     "metadata": {},
     "output_type": "execute_result"
    }
   ],
   "source": [
    "L is [1] # is will return True if two variables point to the same object"
   ]
  },
  {
   "cell_type": "markdown",
   "metadata": {},
   "source": [
    "### Reduce function"
   ]
  },
  {
   "cell_type": "code",
   "execution_count": 28,
   "metadata": {},
   "outputs": [
    {
     "data": {
      "text/plain": [
       "0"
      ]
     },
     "execution_count": 28,
     "metadata": {},
     "output_type": "execute_result"
    }
   ],
   "source": [
    "from functools import reduce\n",
    "\n",
    "# using reduce\n",
    "from functools import reduce\n",
    "reduce(lambda x,y:x*y,range(6))"
   ]
  },
  {
   "cell_type": "code",
   "execution_count": 64,
   "metadata": {},
   "outputs": [
    {
     "ename": "AttributeError",
     "evalue": "'NoneType' object has no attribute 'extend'",
     "output_type": "error",
     "traceback": [
      "\u001b[1;31m---------------------------------------------------------------------------\u001b[0m",
      "\u001b[1;31mAttributeError\u001b[0m                            Traceback (most recent call last)",
      "\u001b[1;32m<ipython-input-64-14bb951344c5>\u001b[0m in \u001b[0;36m<module>\u001b[1;34m\u001b[0m\n\u001b[0;32m      1\u001b[0m \u001b[1;31m# eg.\u001b[0m\u001b[1;33m\u001b[0m\u001b[1;33m\u001b[0m\u001b[1;33m\u001b[0m\u001b[0m\n\u001b[0;32m      2\u001b[0m \u001b[0ml\u001b[0m \u001b[1;33m=\u001b[0m \u001b[1;33m[\u001b[0m\u001b[1;33m[\u001b[0m\u001b[1;36m1\u001b[0m\u001b[1;33m,\u001b[0m \u001b[1;36m2\u001b[0m\u001b[1;33m,\u001b[0m \u001b[1;36m3\u001b[0m\u001b[1;33m]\u001b[0m\u001b[1;33m,\u001b[0m \u001b[1;33m[\u001b[0m\u001b[1;36m4\u001b[0m\u001b[1;33m,\u001b[0m \u001b[1;36m5\u001b[0m\u001b[1;33m,\u001b[0m \u001b[1;36m6\u001b[0m\u001b[1;33m]\u001b[0m\u001b[1;33m,\u001b[0m \u001b[1;33m[\u001b[0m\u001b[1;36m7\u001b[0m\u001b[1;33m]\u001b[0m\u001b[1;33m,\u001b[0m \u001b[1;33m[\u001b[0m\u001b[1;36m8\u001b[0m\u001b[1;33m,\u001b[0m \u001b[1;36m9\u001b[0m\u001b[1;33m]\u001b[0m\u001b[1;33m]\u001b[0m\u001b[1;33m\u001b[0m\u001b[1;33m\u001b[0m\u001b[0m\n\u001b[1;32m----> 3\u001b[1;33m \u001b[0mreduce\u001b[0m\u001b[1;33m(\u001b[0m\u001b[1;32mlambda\u001b[0m \u001b[0mx\u001b[0m\u001b[1;33m,\u001b[0m \u001b[0my\u001b[0m\u001b[1;33m:\u001b[0m \u001b[0mx\u001b[0m\u001b[1;33m.\u001b[0m\u001b[0mextend\u001b[0m\u001b[1;33m(\u001b[0m\u001b[0my\u001b[0m\u001b[1;33m)\u001b[0m\u001b[1;33m,\u001b[0m \u001b[0ml\u001b[0m\u001b[1;33m)\u001b[0m \u001b[1;31m# append, extend methods returns none\u001b[0m\u001b[1;33m\u001b[0m\u001b[1;33m\u001b[0m\u001b[0m\n\u001b[0m",
      "\u001b[1;32m<ipython-input-64-14bb951344c5>\u001b[0m in \u001b[0;36m<lambda>\u001b[1;34m(x, y)\u001b[0m\n\u001b[0;32m      1\u001b[0m \u001b[1;31m# eg.\u001b[0m\u001b[1;33m\u001b[0m\u001b[1;33m\u001b[0m\u001b[1;33m\u001b[0m\u001b[0m\n\u001b[0;32m      2\u001b[0m \u001b[0ml\u001b[0m \u001b[1;33m=\u001b[0m \u001b[1;33m[\u001b[0m\u001b[1;33m[\u001b[0m\u001b[1;36m1\u001b[0m\u001b[1;33m,\u001b[0m \u001b[1;36m2\u001b[0m\u001b[1;33m,\u001b[0m \u001b[1;36m3\u001b[0m\u001b[1;33m]\u001b[0m\u001b[1;33m,\u001b[0m \u001b[1;33m[\u001b[0m\u001b[1;36m4\u001b[0m\u001b[1;33m,\u001b[0m \u001b[1;36m5\u001b[0m\u001b[1;33m,\u001b[0m \u001b[1;36m6\u001b[0m\u001b[1;33m]\u001b[0m\u001b[1;33m,\u001b[0m \u001b[1;33m[\u001b[0m\u001b[1;36m7\u001b[0m\u001b[1;33m]\u001b[0m\u001b[1;33m,\u001b[0m \u001b[1;33m[\u001b[0m\u001b[1;36m8\u001b[0m\u001b[1;33m,\u001b[0m \u001b[1;36m9\u001b[0m\u001b[1;33m]\u001b[0m\u001b[1;33m]\u001b[0m\u001b[1;33m\u001b[0m\u001b[1;33m\u001b[0m\u001b[0m\n\u001b[1;32m----> 3\u001b[1;33m \u001b[0mreduce\u001b[0m\u001b[1;33m(\u001b[0m\u001b[1;32mlambda\u001b[0m \u001b[0mx\u001b[0m\u001b[1;33m,\u001b[0m \u001b[0my\u001b[0m\u001b[1;33m:\u001b[0m \u001b[0mx\u001b[0m\u001b[1;33m.\u001b[0m\u001b[0mextend\u001b[0m\u001b[1;33m(\u001b[0m\u001b[0my\u001b[0m\u001b[1;33m)\u001b[0m\u001b[1;33m,\u001b[0m \u001b[0ml\u001b[0m\u001b[1;33m)\u001b[0m \u001b[1;31m# append, extend methods returns none\u001b[0m\u001b[1;33m\u001b[0m\u001b[1;33m\u001b[0m\u001b[0m\n\u001b[0m",
      "\u001b[1;31mAttributeError\u001b[0m: 'NoneType' object has no attribute 'extend'"
     ]
    }
   ],
   "source": [
    "# eg.\n",
    "l = [[1, 2, 3], [4, 5, 6], [7], [8, 9]]\n",
    "reduce(lambda x, y: x.extend(y), l) # append, extend methods returns none"
   ]
  },
  {
   "cell_type": "code",
   "execution_count": 31,
   "metadata": {},
   "outputs": [
    {
     "data": {
      "text/plain": [
       "15"
      ]
     },
     "execution_count": 31,
     "metadata": {},
     "output_type": "execute_result"
    }
   ],
   "source": [
    "# example 1\n",
    "reduce(lambda x, y: x+y, [1, 2, 3, 4, 5]) #  starts from default"
   ]
  },
  {
   "cell_type": "code",
   "execution_count": 38,
   "metadata": {},
   "outputs": [
    {
     "data": {
      "text/plain": [
       "15"
      ]
     },
     "execution_count": 38,
     "metadata": {},
     "output_type": "execute_result"
    }
   ],
   "source": [
    "# eg. 2\n",
    "reduce(lambda x, y: x+y, [1, 2, 3, 4, 5],2) # starts from element specified"
   ]
  },
  {
   "cell_type": "code",
   "execution_count": 39,
   "metadata": {},
   "outputs": [
    {
     "data": {
      "text/plain": [
       "12345"
      ]
     },
     "execution_count": 39,
     "metadata": {},
     "output_type": "execute_result"
    }
   ],
   "source": [
    "reduce(lambda x,y: 10*x+y, [1,2,3,4,5])"
   ]
  },
  {
   "cell_type": "code",
   "execution_count": 36,
   "metadata": {},
   "outputs": [
    {
     "data": {
      "text/plain": [
       "(1, (2, (3, (4, (5, (6, (7, (8, (9, 10)))))))))"
      ]
     },
     "execution_count": 36,
     "metadata": {},
     "output_type": "execute_result"
    }
   ],
   "source": [
    "\n",
    "reduce(lambda x, y: (y, x), reversed(range(1, 11)))"
   ]
  },
  {
   "cell_type": "code",
   "execution_count": 35,
   "metadata": {},
   "outputs": [
    {
     "data": {
      "text/plain": [
       "(((((((((1, 2), 3), 4), 5), 6), 7), 8), 9), 10)"
      ]
     },
     "execution_count": 35,
     "metadata": {},
     "output_type": "execute_result"
    }
   ],
   "source": [
    "reduce(lambda x, y: (x, y), range(1, 11))"
   ]
  },
  {
   "cell_type": "markdown",
   "metadata": {},
   "source": [
    "### Dictionary"
   ]
  },
  {
   "cell_type": "markdown",
   "metadata": {},
   "source": [
    "__Q. How to sort a dictionary by key?__"
   ]
  },
  {
   "cell_type": "code",
   "execution_count": 23,
   "metadata": {},
   "outputs": [
    {
     "name": "stdout",
     "output_type": "stream",
     "text": [
      "[(0, 0), (1, 2), (2, 1), (3, 4), (4, 3)]\n"
     ]
    }
   ],
   "source": [
    "import operator\n",
    "x = {1: 2, 3: 4, 4: 3, 2: 1, 0: 0}\n",
    "sorted_x = sorted(x.items(), key=operator.itemgetter(0))\n",
    "print(sorted_x)"
   ]
  },
  {
   "cell_type": "markdown",
   "metadata": {},
   "source": [
    "__Q. How to sort a dictionary by its value?__"
   ]
  },
  {
   "cell_type": "code",
   "execution_count": 25,
   "metadata": {},
   "outputs": [
    {
     "name": "stdout",
     "output_type": "stream",
     "text": [
      "[(0, 0), (2, 1), (1, 2), (4, 3), (3, 4)]\n"
     ]
    }
   ],
   "source": [
    "x = {1: 2, 3: 4, 4: 3, 2: 1, 0: 0}\n",
    "sorted_x = sorted(x.items(), key=operator.itemgetter(1))\n",
    "print(sorted_x)"
   ]
  },
  {
   "cell_type": "markdown",
   "metadata": {},
   "source": [
    "__Q Create a function to calculate Factorial?__"
   ]
  },
  {
   "cell_type": "code",
   "execution_count": 1,
   "metadata": {},
   "outputs": [
    {
     "data": {
      "text/plain": [
       "720"
      ]
     },
     "execution_count": 1,
     "metadata": {},
     "output_type": "execute_result"
    }
   ],
   "source": [
    "def f(n):\n",
    "    return 1 if n in (0, 1) else n*f(n-1)\n",
    "\n",
    "f(6)"
   ]
  },
  {
   "cell_type": "markdown",
   "metadata": {},
   "source": [
    "__Q Write a code to count Capital letters in a file?__\n",
    "\n",
    "```python\n",
    "with open(SOME_LARGE_FILE) as f:\n",
    "    count = 0\n",
    "    text = f.read()\n",
    "    for char in text:\n",
    "        if char.isupper():\n",
    "            count += 1\n",
    "```"
   ]
  }
 ],
 "metadata": {
  "kernelspec": {
   "display_name": "Python 3",
   "language": "python",
   "name": "python3"
  },
  "language_info": {
   "codemirror_mode": {
    "name": "ipython",
    "version": 3
   },
   "file_extension": ".py",
   "mimetype": "text/x-python",
   "name": "python",
   "nbconvert_exporter": "python",
   "pygments_lexer": "ipython3",
   "version": "3.7.3"
  }
 },
 "nbformat": 4,
 "nbformat_minor": 2
}
