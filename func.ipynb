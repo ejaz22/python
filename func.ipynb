{
 "cells": [
  {
   "cell_type": "markdown",
   "metadata": {},
   "source": [
    "# Functional python\n",
    "\n",
    "- when called, a function can take positional or named argument. Positional argument must be supplied before named / keyword argument.\n",
    "- arguments are passed as reference (objects are not copied)\n",
    "- prefer excepetion to returning None (None, 0 and empty all evaluates to false in conditional expression)\n",
    "- A method is a function inside of an object.\n",
    "- Higher-order functions either take functions as arguments or return functions as output."
   ]
  },
  {
   "cell_type": "markdown",
   "metadata": {},
   "source": [
    "__Python OOPs Concepts__\n",
    "\n",
    "  - Object.\n",
    "  - Class.\n",
    "  - Method.\n",
    "  - Inheritance.\n",
    "  - Polymorphism.\n",
    "  - Data Abstraction.\n",
    "  - Encapsulation."
   ]
  },
  {
   "cell_type": "markdown",
   "metadata": {},
   "source": [
    "#  Monkey patching\n",
    "\n",
    "adding a new variable or method to a class after it has been defined.\n",
    "\n",
    "eg. suppose we want to add the fullowing funciton in class A\n",
    "```python\n",
    "# adding this function\n",
    "def get_num(self):\n",
    "    retur self.num\n",
    "\n",
    "\n",
    "# to the class A\n",
    "class A:\n",
    "    def __init__(self,num):\n",
    "        self.num = num\n",
    "        \n",
    "    def __add__(self,ohter):\n",
    "        return A(self.num = other.num)\n",
    "    \n",
    "# assigning function to class A\n",
    "A.get_num = get_num\n",
    "\n",
    "```\n",
    "        "
   ]
  },
  {
   "cell_type": "markdown",
   "metadata": {},
   "source": [
    "# Class method and static method\n",
    "\n",
    "class method works the same way as regular method, except that when invoked on an object they bind the class of the object. A Static method is just a utility function, they do not bind with class or instance."
   ]
  },
  {
   "cell_type": "code",
   "execution_count": 1,
   "metadata": {},
   "outputs": [],
   "source": [
    "class D:\n",
    "    m = 2\n",
    "    \n",
    "    @classmethod\n",
    "    def f(cls,x):\n",
    "        return cls.m * x\n",
    "    \n",
    "    @staticmethod\n",
    "    def s(name):\n",
    "        print(name)"
   ]
  },
  {
   "cell_type": "code",
   "execution_count": 9,
   "metadata": {},
   "outputs": [
    {
     "data": {
      "text/plain": [
       "(2, 200)"
      ]
     },
     "execution_count": 9,
     "metadata": {},
     "output_type": "execute_result"
    }
   ],
   "source": [
    "d = D()\n",
    "d.m = 200\n",
    "D().m, d.m"
   ]
  },
  {
   "cell_type": "code",
   "execution_count": 11,
   "metadata": {},
   "outputs": [
    {
     "data": {
      "text/plain": [
       "(6, 6)"
      ]
     },
     "execution_count": 11,
     "metadata": {},
     "output_type": "execute_result"
    }
   ],
   "source": [
    "D.f(3), d.f(3)"
   ]
  },
  {
   "cell_type": "markdown",
   "metadata": {},
   "source": [
    "# Polymorphism (many shapes)\n",
    "\n",
    "\n",
    "Polymorphism describes a pattern in object oriented programming in which classes have different functionality while sharing a common interface. Without polymorphism a type check may be required before performing an action on an object to determine the correct method to call.\n",
    "\n",
    "\n",
    "Types \n",
    " - Duck typing\n",
    " - operator overloading\n",
    " - operator overriding\n",
    " - \n",
    "\n",
    "```python\n",
    " \n",
    "# inbuilt function polymorphism \n",
    "print(len(\"geeks\")) \n",
    "  \n",
    "# len() being used for a list \n",
    "print(len([10, 20, 30])) \n",
    "\n",
    "\n",
    "# user define function polymorphism \n",
    " def add(x, y, z = 0):  \n",
    "    return x + y+z \n",
    "  \n",
    "print(add(2, 3)) \n",
    "print(add(2, 3, 4))\n",
    "\n",
    "\n",
    "```"
   ]
  },
  {
   "cell_type": "markdown",
   "metadata": {},
   "source": [
    "# method overloading\n",
    "\n",
    "Method overloading is a feature of OOPs which makes it possible to give the same name to more than one methods within a class if the arguments passed differ. It is not suppoted by python."
   ]
  },
  {
   "cell_type": "markdown",
   "metadata": {},
   "source": [
    "# Operator overloading (overloading how operators work)\n",
    "\n",
    "Each operator can be used in a different way for different types of operands. For example operator + is used to add two integers as well as join two strings and merge two lists. It is achievable because '+' operator is overloaded by int class and str class. This different behaviour of a single operator for different types of operands is called Operator Overloading.\n",
    "\n",
    "Special methods start and end with two underscores and customize standard Python behavior (e.g. operator overloading).\n",
    "\n",
    "```python\n",
    "class My2Vector(object):\n",
    "    def __init__(self, x, y):\n",
    "        self.x = x\n",
    "        self.y = y\n",
    "        \n",
    "def __add__(self, other):\n",
    "    return My2Vector(self.x+other.x, self.y+other.y)\n",
    "\n",
    "v1 = My2Vector(1, 2)\n",
    "v2 = My2Vector(3, 2)\n",
    "v3 = v1 + v2\n",
    "```\n"
   ]
  },
  {
   "cell_type": "markdown",
   "metadata": {},
   "source": [
    "# Why you should use private variables and methods?\n",
    "\n",
    "Please note that there is no such thing as \"private method\" in Python. Double underscore is just name mangling:\n",
    "\n",
    "\n",
    "If your class is intended to be subclassed, and you have attributes that you do not want subclasses to use, consider naming them with double leading underscores and no trailing underscores. This invokes Python's name mangling algorithm, where the name of the class is mangled into the attribute name. This helps avoid attribute name collisions should subclasses inadvertently contain attributes with the same name.\n",
    "\n",
    "\n",
    "```python\n",
    "class Foo:\n",
    "    def __init__(self):\n",
    "        self.__private = 4;\n",
    "        print (self.__private) # yields 4 no problem\n",
    "\n",
    "foo = Foo()\n",
    "foo.__private\n",
    "# AttributeError: Foo instance has no attribute '__private'\n",
    "```\n",
    "\n",
    "It will be accessible through _Foo__private instead."
   ]
  },
  {
   "cell_type": "markdown",
   "metadata": {},
   "source": [
    "# getter and setter \n",
    "\n",
    "Python doesn’t have setters and getters like other languages do. Python has properties which ensure that a method on a class is called when a specific attribute is set or fetched. They are used to prevent unauthorized access to variables in a class. Getters and Setters in python are often used when:\n",
    "\n",
    "- We use getters & setters to add validation logic around getting and setting a value.\n",
    "- To avoid direct access of a class field i.e. private variables cannot be accessed directly or modified by external user.\n",
    "\n",
    "\n",
    "```python\n",
    "class Foo:\n",
    "   def __init__(self, value):\n",
    "     self.__value = value\n",
    "\n",
    "   @property       # getter\n",
    "   def value(self):\n",
    "     return self.__value\n",
    "\n",
    "   @value.setter  # setter\n",
    "   def set_value(self, that):\n",
    "     if that < 0:\n",
    "       self.__value = 0\n",
    "     else:\n",
    "       self.__value = that\n",
    "```"
   ]
  },
  {
   "cell_type": "markdown",
   "metadata": {},
   "source": [
    "## Abstract base class (ABC)\n",
    "\n",
    "An abstract class is a class that cannot be instantiated and is always used as a base class. You must declare at least one abstract method in the abstract class.\n",
    "\n",
    "ABCs offer a higher level of semantic contract between clients and the implemented classes. Abstract base classes (ABCs) enforce what derived classes implement particular methods from the base class.\n",
    "\n",
    "-  object cannot be created from ABC class\n",
    "\n",
    "abstract class means it may contain methods which do not have definition as well as methods with definition.\n",
    "  \n",
    "  \n",
    "``` python\n",
    "\n",
    "from abc import ABC, abstractmethod\n",
    "\n",
    "class Parent(ABC):\n",
    "    @abstractmethod\n",
    "    def methodone(self):\n",
    "        raise NotImplementedError()\n",
    "    @abstractmethod\n",
    "    def methodtwo(self):\n",
    "        raise NotImplementedError()\n",
    "```\n",
    "\n",
    "if we derive a classfrom Parent, then it must the methods (methodone and methodtwo)"
   ]
  },
  {
   "cell_type": "markdown",
   "metadata": {},
   "source": [
    "# Duck typing (typing means object type)\n",
    "\n",
    "Duck Typing means that an object is defined by what it can do, not by what it is.\n",
    "\n",
    "Duck typing is a concept related to dynamic typing, where the type or the class of an object is less important than the methods it defines. When you use duck typing, you do not check types at all. Instead, you check for the presence of a given method or attribute.\n",
    "\n",
    "\n",
    "For example, you can call len() on any Python object that defines a .__len__() magic method:\n",
    "\n",
    "\n",
    "```python\n",
    ">>> class TheHobbit:\n",
    "...     def __len__(self):\n",
    "...         return 95022\n",
    "...\n",
    "...\n",
    ">>> the_hobbit = TheHobbit()\n",
    "\n",
    ">>> the_hobbit\n",
    "<__main__.TheHobbit object at 0x108deeef0>\n",
    "\n",
    ">>> len(the_hobbit)\n",
    "95022\n",
    "\n",
    ">>> my_str = \"Hello World\"\n",
    ">>> my_list = [34, 54, 65, 78]\n",
    ">>> my_dict = {\"one\": 123, \"two\": 456, \"three\": 789}\n",
    "\n",
    ">>> len(my_str)\n",
    "11\n",
    ">>> len(my_list)\n",
    "4\n",
    ">>> len(my_dict)\n",
    "3\n",
    ">>> len(the_hobbit)\n",
    "95022\n",
    "\n",
    ">>> my_int = 7\n",
    ">>> my_float = 42.3\n",
    "\n",
    ">>> len(my_int)\n",
    "Traceback (most recent call last):\n",
    "  File \"<input>\", line 1, in <module>\n",
    "    len(my_int)\n",
    "TypeError: object of type 'int' has no len()\n",
    "\n",
    ">>> len(my_float)\n",
    "Traceback (most recent call last):\n",
    "  File \"<input>\", line 1, in <module>\n",
    "    len(my_float)\n",
    "TypeError: object of type 'float' has no len()\n",
    "```"
   ]
  },
  {
   "cell_type": "markdown",
   "metadata": {},
   "source": [
    "__Q What is the difference in assertion and exception?__\n",
    "\n",
    "assertions are statements which can raise errors, but you won't be catching them.\n",
    "\n",
    "```python\n",
    "\n",
    "def mymethod(listOfTuples):\n",
    "    assert(all(type(tp)==tuple for tp in listOfTuples))\n",
    "\n",
    "    \n",
    "# gives positive or negative message\n",
    "\n",
    "assert a == b, 'a is not equal to b'\n",
    "#AssertionError: a must be equal to b\n",
    "```"
   ]
  },
  {
   "cell_type": "markdown",
   "metadata": {},
   "source": [
    "__Q. List the functional approach that Python is taking.__\n",
    "\n",
    "- map\n",
    "- filter\n",
    "- reduce\n",
    "- lambda\n",
    "- list comprehension"
   ]
  },
  {
   "cell_type": "markdown",
   "metadata": {},
   "source": [
    "__Q. What is lambda function in Python?__\n",
    "\n",
    "A lambda function is an anonymous function (a function that does not have a name) in Python. To define anonymous functions, we use the ‘lambda’ keyword instead of the ‘def’ keyword, hence the name ‘lambda function’. Lambda functions can have any number of arguments but only one statement."
   ]
  },
  {
   "cell_type": "markdown",
   "metadata": {},
   "source": [
    "__Q. What is self in python?__\n",
    "\n",
    "The self in Python represents the instance of the class. It binds the attributes with the given arguments. The use of self makes it easier to distinguish between instance attributes (and methods) from local variables.\n"
   ]
  },
  {
   "cell_type": "markdown",
   "metadata": {},
   "source": [
    "__Q. What is _init_ Python?__\n",
    "\n",
    "Equivalent to constructors in OOP terminology, __init__ is a reserved method in Python classes. \n",
    "The __init__ method is called automatically whenever a new object is initiated. \n",
    "This method allocates memory to the new object as soon as it is created. This method can also be used to initialize variables\n",
    "\n",
    "\n",
    "_int_.py is used to import a module in a directory which is called as package import. Usually _init_.py is an empty py file."
   ]
  },
  {
   "cell_type": "markdown",
   "metadata": {},
   "source": [
    "# Closures\n",
    "\n",
    "Closure interact with variable scope\n",
    "\n",
    "__Global and Local Variables__\n",
    "\n",
    "Variables defined outside functions are global variables. Their values may be accessed inside\n",
    "functions without declaration.\n",
    "\n",
    "To modify to a global variable inside a function, the variable must be declared inside the function\n",
    "using the keyword global.\n",
    "\n",
    "__global vs nonlocal__\n",
    "\n",
    "Nonlocal is similar in meaning to global. But it takes effect primarily in nested methods. It means \"not a global or local variable.\" So it changes the identifier to refer to an enclosing method's variable. \n",
    "\n",
    "__Nested Function__\n",
    "\n",
    "A function defined inside another function is simply called a nested function.  Nested functions are able to access variables of the enclosing scope.\n",
    "\n",
    "__Closure__\n",
    "\n",
    "A Python3 closure is when some data gets attached to the code. So, this value is remembered even when the variable goes out of scope, or the function is removed from the namespace. \n",
    "\n",
    "- Objects are data with methods attached, closures are functions with data attached.\n",
    "- Closures provide some sort of data hiding as they are used as callback functions. This helps us to reduce the use of global variables.\n",
    "- Useful for replacing hard-coded constants.\n",
    "- Closures prove to be efficient way when we have few functions in our code.\n",
    "\n",
    "__Criteria__\n",
    "\n",
    "- We must have a nested function (function inside a function).\n",
    "- The nested function must refer to a value defined in the enclosing function.\n",
    "- The enclosing function must return the nested function.\n"
   ]
  },
  {
   "cell_type": "code",
   "execution_count": 3,
   "metadata": {},
   "outputs": [],
   "source": [
    "# a nested function accessing a non-local variable.\n",
    "\n",
    "def print_msg(x):   # This is the outer enclosing function, 'x' is variable of enclosing scope (nonlocal)\n",
    "    def printer():  # This is the nested function\n",
    "        print(x)\n",
    "    printer()      # call the function "
   ]
  },
  {
   "cell_type": "code",
   "execution_count": 4,
   "metadata": {},
   "outputs": [],
   "source": [
    "# closure function \n",
    "def print_msg(x):   # This is the outer enclosing function\n",
    "    def printer():    # This is the nested function\n",
    "        print(x)\n",
    "    return printer  # return the function (object)\n",
    "\n"
   ]
  },
  {
   "cell_type": "code",
   "execution_count": 1,
   "metadata": {},
   "outputs": [
    {
     "name": "stdout",
     "output_type": "stream",
     "text": [
      "1 2 1 2\n"
     ]
    }
   ],
   "source": [
    "# A closure allows you to bind variables into a function without passing them as parameters.\n",
    "\n",
    "# if nonlocal keyword is not used, it will throw UnboundLocalError.\n",
    " \n",
    "j  = 0 # global variable\n",
    "def make_counter():\n",
    "    i = 0           # nonlocal variable\n",
    "    def counter(): # counter() is a closure\n",
    "        nonlocal i\n",
    "        i += 1     # value of i being change by nonlocal variable\n",
    "        return i\n",
    "    return counter\n",
    "\n",
    "c1 = make_counter()\n",
    "c2 = make_counter()\n",
    "\n",
    "print (c1(), c1(), c2(), c2())"
   ]
  },
  {
   "cell_type": "markdown",
   "metadata": {},
   "source": [
    "# Decorators\n",
    "\n",
    "- decorators dynamically alters the functionality of a function, method or class without changing the source code.\n",
    "- Decorators are used to enhance existing functions without changing their definition.\n",
    "- decorators take function as a parameter and return function\n",
    "- @property decorator allows to use a function as an attribute"
   ]
  },
  {
   "cell_type": "code",
   "execution_count": 6,
   "metadata": {},
   "outputs": [
    {
     "name": "stdout",
     "output_type": "stream",
     "text": [
      "I AM ANTHONY GONZALVIS\n"
     ]
    }
   ],
   "source": [
    "# decorator function\n",
    "def capitalize(func):  # decorator function taking funcion as paraeter\n",
    "  def uppercase(x):  # inner function taking decorators function parameter.\n",
    "    result = func(x)\n",
    "    return result.upper()\n",
    "  return uppercase\n",
    "\n",
    "# function without parameter\n",
    "@capitalize                    # decorator function\n",
    "def say_hello(x):              # argument for decorator\n",
    "  return x\n",
    "\n",
    "# call function\n",
    "print(say_hello('i am anthony gonzalvis'))"
   ]
  },
  {
   "cell_type": "code",
   "execution_count": 7,
   "metadata": {},
   "outputs": [
    {
     "name": "stdout",
     "output_type": "stream",
     "text": [
      "144\n",
      "625\n"
     ]
    }
   ],
   "source": [
    "def square(func):\n",
    "  def multiply(x,y):\n",
    "    f = func(x,y)\n",
    "    return f * f\n",
    "  return multiply\n",
    "\n",
    "@square\n",
    "def addition(x,y):\n",
    "  return x + y\n",
    "\n",
    "print(addition(5,7))\t# 144\n",
    "print(addition(15,10))\t# 625"
   ]
  },
  {
   "cell_type": "markdown",
   "metadata": {},
   "source": [
    "## Generators\n",
    "\n",
    "Iterators are containers for objects so that you can loop over the objects. To create a Python iterator object, you will need to implement two methods in your iterator class. vis iter() and next(). A Generator function returns an iterator object.It uses yield statement.\n",
    "\n",
    "Benefit : Store one element a time in memory\n",
    "\n",
    "When a generator function is called, it returns an generator object without even beginning execution of the function. When next() method is called for the first time, the function starts executing until it reaches yield statement which returns the yielded value. The yield keeps track of i.e. remembers last execution. And second next() call continues from previous value.\n",
    "\n",
    "Generators are a lazy way to build iterables. They are useful when the fully realized list would not fit in memory, or when the cost to calculate each list element is high and you want to do it as late as possible. But they can only be iterated over once.\n",
    "\n",
    "\n",
    "```python\n",
    "# eg 1\n",
    "def count_function(n):\n",
    "    for i in range(100):\n",
    "        yield n\n",
    "        n+=1\n",
    "# eg 2\n",
    "def vowels():\n",
    "    yield a\n",
    "    yield e\n",
    "    yield i\n",
    "    yield o\n",
    "    yield u\n",
    "    \n",
    "    \n",
    "# eg 3\n",
    "def myGen(n):\n",
    "    yield n\n",
    "    yield n + 1 # after this it will raise StopIteration error\n",
    "    \n",
    " ```"
   ]
  },
  {
   "cell_type": "markdown",
   "metadata": {},
   "source": [
    "__Q.11. What is the difference between iterator protocol and generators?__\n",
    "\n",
    "Any object that support iter() and next() is said to be iterable. The iterator protocol for Python declares that we must make use of two functions to build an iterator- iter() and next().\n",
    "\n",
    "iter()- To create an iterator\n",
    "\n",
    "next()- To iterate to the next element\n",
    "\n",
    "```python\n",
    "a=iter([2,4,6,8,10])\n",
    "next(a)\n",
    "```\n",
    "\n",
    "__Generator__\n",
    "\n",
    "a generator function is more convenient way of writing an iterator. We don't have to worry about iterator protocol. A generator solution is based on pipelining data between different components\n",
    "\n",
    "__How Generator Works__\n",
    "\n",
    "- calling a generator function creates a generator object.\n",
    "- the function only execute on next()\n",
    "- yield produces a value but suspends the function.\n",
    "- function resume on next call to next()"
   ]
  },
  {
   "cell_type": "code",
   "execution_count": 11,
   "metadata": {},
   "outputs": [
    {
     "data": {
      "text/plain": [
       "1"
      ]
     },
     "execution_count": 11,
     "metadata": {},
     "output_type": "execute_result"
    }
   ],
   "source": [
    "# generator comprehension\n",
    "\n",
    "a = [1,2,3,4,5]\n",
    "b = (x*x for x in a)\n",
    "\n",
    "next(b)"
   ]
  },
  {
   "cell_type": "markdown",
   "metadata": {},
   "source": [
    "__Q.What are the generators in Python?__\n",
    "\n",
    "A generator is simply a function that returns an object on which you can call next, such that for every call it returns some value until it raises a Stop. Iteration exception, signaling that all values have been generated. Such an object is called an iterator. Normal functions return a single value using return, just like in Java. In Python, however, there is an alternative, called yield. Using yield anywhere in a function makes it a generator.\n",
    "\n",
    "_What can you use Python generator functions for?_\n",
    "\n",
    "One of the reasons so use a generator is to make the solution clearer for some kind of solution. The other is to treat results one at a time, avoiding building huge lists of results that you would process separated anyway.\n",
    "\n",
    "_When is it not a good time to use python generators?_\n",
    "\n",
    "Use list instead of a generator when:\n",
    "\n",
    " • You need to access the data multiple times (i.e. cache the results instead of recomputing them)\n",
    "\n",
    " • You need random access (or any access other than forwarding sequential order):\n",
    "\n",
    " • You need to join strings (which requires two passes over the data)"
   ]
  },
  {
   "cell_type": "markdown",
   "metadata": {},
   "source": [
    "## map()  - Reducing the usage of loops in Python:\n",
    "\n",
    "map() function returns a map object(which is an iterator) of the results after applying the given function to each item of a given iterable (list, tuple etc.)\n",
    "\n",
    "```python\n",
    "map(fun, iter)\n",
    "```\n",
    "\n",
    "__Why use map__\n",
    "\n",
    "map function returns an map oject that can be converted into sequence objects such as list, tuple etc. using their factory functions."
   ]
  },
  {
   "cell_type": "code",
   "execution_count": 8,
   "metadata": {},
   "outputs": [
    {
     "name": "stdout",
     "output_type": "stream",
     "text": [
      "APPLE\n",
      "BANANA\n",
      "ORANGE\n",
      "GRAPES\n"
     ]
    }
   ],
   "source": [
    "for i in ['apple','banana','orange','grapes']:\n",
    "    print(i.upper())"
   ]
  },
  {
   "cell_type": "code",
   "execution_count": 9,
   "metadata": {},
   "outputs": [
    {
     "data": {
      "text/plain": [
       "['APPLE', 'BANANA', 'ORANGE', 'GRAPES']"
      ]
     },
     "execution_count": 9,
     "metadata": {},
     "output_type": "execute_result"
    }
   ],
   "source": [
    "list(map(str.upper,['apple','banana','orange','grapes']))"
   ]
  },
  {
   "cell_type": "markdown",
   "metadata": {},
   "source": [
    "## reduce()  - "
   ]
  },
  {
   "cell_type": "code",
   "execution_count": 18,
   "metadata": {},
   "outputs": [
    {
     "data": {
      "text/plain": [
       "14"
      ]
     },
     "execution_count": 18,
     "metadata": {},
     "output_type": "execute_result"
    }
   ],
   "source": [
    "from functools import reduce\n",
    "reduce(lambda x,y: x+y,[2,3,4,5])"
   ]
  },
  {
   "cell_type": "markdown",
   "metadata": {},
   "source": [
    "## filter()  - reducing the use of for loop and if statement"
   ]
  },
  {
   "cell_type": "code",
   "execution_count": 19,
   "metadata": {},
   "outputs": [
    {
     "data": {
      "text/plain": [
       "[1, 2, 3]"
      ]
     },
     "execution_count": 19,
     "metadata": {},
     "output_type": "execute_result"
    }
   ],
   "source": [
    "list(filter(lambda x: x>0, [1,2,-5,-4,3]))"
   ]
  },
  {
   "cell_type": "markdown",
   "metadata": {},
   "source": [
    "# Recursion\n",
    "\n",
    "a recursive function is that functioon that call itself in its definition.\n",
    "\n",
    "__Q. I'm getting a maximum recursion depth error for a function. What does this mean? How can I mitigate the problem?__\n",
    "\n",
    "Getting or setting the max recursion depth for the interpreter\n",
    "\n",
    "```python\n",
    "import sys\n",
    "sys.getrecursionlimit() \n",
    "sys.setrecursionlimit()\n",
    "```\n",
    "\n",
    "We can limit it to prevent a stack overflow caused by infinite recursion."
   ]
  },
  {
   "cell_type": "markdown",
   "metadata": {},
   "source": [
    "# Class\n",
    "\n",
    "\n",
    "- the class in python provides a blueprint to create objects.\n",
    "- class is made of attribute(data) and methods(functions)\n",
    "- attributes that applied to whole classes are described first and called class attribute\n",
    "- magic methods are dunder methods \n",
    "- monkey patching is adding a new variable of method to a class after it is defined\n",
    "- instance variable are unique for each instance while class variable are shared by all instances"
   ]
  },
  {
   "cell_type": "code",
   "execution_count": null,
   "metadata": {},
   "outputs": [],
   "source": []
  }
 ],
 "metadata": {
  "kernelspec": {
   "display_name": "Python 3",
   "language": "python",
   "name": "python3"
  },
  "language_info": {
   "codemirror_mode": {
    "name": "ipython",
    "version": 3
   },
   "file_extension": ".py",
   "mimetype": "text/x-python",
   "name": "python",
   "nbconvert_exporter": "python",
   "pygments_lexer": "ipython3",
   "version": "3.8.2"
  }
 },
 "nbformat": 4,
 "nbformat_minor": 4
}
