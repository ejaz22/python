{
 "cells": [
  {
   "cell_type": "markdown",
   "metadata": {},
   "source": [
    "# Functional python\n",
    "\n",
    "- python list is a mutabe sequence (data structure). Strings are immutable sequence of characters.\n",
    "\n",
    "- A method is a function inside of an object.\n",
    "- Higher-order functions either take functions as arguments or return functions as output.\n",
    "\n",
    "dictionary : the key must be immutable type such as strings or numbers\n",
    "\n",
    "a list is unhashable in a dictionary (cannot be used as a key) whereas tuple has. Hash values are just integers which are used to compare dictionary keys during a dictionary lookup quickly.\n",
    "\n",
    "\n",
    "\n",
    "\n",
    "\n",
    "__topics__\n",
    "\n",
    "- map\n",
    "\n",
    "- reduce\n",
    "\n",
    "- filter\n",
    "\n",
    "- lambda function\n",
    "\n",
    "- nested function\n",
    "\n",
    "- closure\n",
    "\n",
    "- decorators\n",
    "\n",
    "- generators\n",
    "\n",
    "- assert\n",
    "\n",
    "- recursion"
   ]
  },
  {
   "cell_type": "markdown",
   "metadata": {},
   "source": [
    "## Closures\n",
    "\n",
    "__Global and Local Variables__\n",
    "\n",
    "Variables defined outside functions are global variables. Their values may be accessed inside\n",
    "functions without declaration.\n",
    "\n",
    "To modify to a global variable inside a function, the variable must be declared inside the function\n",
    "using the keyword global.\n",
    "\n",
    "__global vs nonlocal__\n",
    "\n",
    "Nonlocal is similar in meaning to global. But it takes effect primarily in nested methods. It means \"not a global or local variable.\" So it changes the identifier to refer to an enclosing method's variable. \n",
    "\n",
    "__Nested Function__\n",
    "\n",
    "A function defined inside another function is simply called a nested function.  Nested functions are able to access variables of the enclosing scope.\n",
    "\n",
    "__Closure__\n",
    "\n",
    "A Python3 closure is when some data gets attached to the code. So, this value is remembered even when the variable goes out of scope, or the function is removed from the namespace. \n",
    "\n",
    "- Objects are data with methods attached, closures are functions with data attached.\n",
    "- Closures provide some sort of data hiding as they are used as callback functions. This helps us to reduce the use of global variables.\n",
    "- Useful for replacing hard-coded constants.\n",
    "- Closures prove to be efficient way when we have few functions in our code.\n",
    "\n",
    "__Criteria__\n",
    "\n",
    "- We must have a nested function (function inside a function).\n",
    "- The nested function must refer to a value defined in the enclosing function.\n",
    "- The enclosing function must return the nested function.\n"
   ]
  },
  {
   "cell_type": "code",
   "execution_count": 12,
   "metadata": {},
   "outputs": [],
   "source": [
    "# a nested function accessing a non-local variable.\n",
    "\n",
    "def print_msg(x):   # This is the outer enclosing function, 'x' is variable of enclosing scope (nonlocal)\n",
    "    def printer():  # This is the nested function\n",
    "        print(x)\n",
    "    printer()      # call the function "
   ]
  },
  {
   "cell_type": "code",
   "execution_count": 13,
   "metadata": {},
   "outputs": [],
   "source": [
    "# closure function \n",
    "def print_msg(x):   # This is the outer enclosing function\n",
    "    def printer():    # This is the nested function\n",
    "        print(x)\n",
    "    return printer  # return the function (object)\n",
    "\n"
   ]
  },
  {
   "cell_type": "code",
   "execution_count": 1,
   "metadata": {},
   "outputs": [
    {
     "name": "stdout",
     "output_type": "stream",
     "text": [
      "1 2 1 2\n"
     ]
    }
   ],
   "source": [
    "# A closure allows you to bind variables into a function without passing them as parameters.\n",
    "\n",
    "j  = 0 # global variable\n",
    "def make_counter():\n",
    "    i = 0           # nonlocal variable\n",
    "    def counter(): # counter() is a closure\n",
    "        nonlocal i\n",
    "        i += 1     # value of i being change by nonlocal variable\n",
    "        return i\n",
    "    return counter\n",
    "\n",
    "c1 = make_counter()\n",
    "c2 = make_counter()\n",
    "\n",
    "print (c1(), c1(), c2(), c2())"
   ]
  },
  {
   "cell_type": "markdown",
   "metadata": {},
   "source": [
    "# Decorators\n",
    "\n",
    "- Decorators are used to enhance existing functions without changing their definition.\n",
    "- decorators take function as a parameter and return function\n",
    "- @property decorator allows to use a function as an attribute"
   ]
  },
  {
   "cell_type": "code",
   "execution_count": 51,
   "metadata": {},
   "outputs": [
    {
     "name": "stdout",
     "output_type": "stream",
     "text": [
      "I AM ANTHONY GONZALVIS\n"
     ]
    }
   ],
   "source": [
    "# decorator function\n",
    "def capitalize(func):  # decorator function taking funcion as paraeter\n",
    "  def uppercase(x):  # inner function taking decorators function parameter.\n",
    "    result = func(x)\n",
    "    return result.upper()\n",
    "  return uppercase\n",
    "\n",
    "# function without parameter\n",
    "@capitalize                    # decorator function\n",
    "def say_hello(x):              # argument for decorator\n",
    "  return x\n",
    "\n",
    "# call function\n",
    "print(say_hello('i am anthony gonzalvis'))"
   ]
  },
  {
   "cell_type": "code",
   "execution_count": 42,
   "metadata": {},
   "outputs": [
    {
     "name": "stdout",
     "output_type": "stream",
     "text": [
      "144\n",
      "625\n"
     ]
    }
   ],
   "source": [
    "def square(func):\n",
    "  def multiply(x,y):\n",
    "    f = func(x,y)\n",
    "    return f * f\n",
    "  return multiply\n",
    "\n",
    "@square\n",
    "def addition(x,y):\n",
    "  return x + y\n",
    "\n",
    "print(addition(5,7))\t# 144\n",
    "print(addition(15,10))\t# 625"
   ]
  },
  {
   "cell_type": "markdown",
   "metadata": {},
   "source": [
    "## Generators\n",
    "\n",
    "Iterators are containers for objects so that you can loop over the objects. To create a Python iterator object, you will need to implement two methods in your iterator class. vis iter() and next(). A Generator function returns an iterator object.It uses yield statement.\n",
    "\n",
    "Benefit : Store one element a time in memory\n",
    "\n",
    "When a generator function is called, it returns an generator object without even beginning execution of the function. When next() method is called for the first time, the function starts executing until it reaches yield statement which returns the yielded value. The yield keeps track of i.e. remembers last execution. And second next() call continues from previous value.\n",
    "\n",
    "Generators are a lazy way to build iterables. They are useful when the fully realized list would not fit in memory, or when the cost to calculate each list element is high and you want to do it as late as possible. But they can only be iterated over once.\n",
    "\n",
    "\n",
    "```python\n",
    "# eg 1\n",
    "def count_function(n):\n",
    "    for i in range(100):\n",
    "        yield n\n",
    "        n+=1\n",
    "# eg 2\n",
    "def vowels():\n",
    "    yield a\n",
    "    yield e\n",
    "    yield i\n",
    "    yield o\n",
    "    yield u\n",
    "    \n",
    "    \n",
    "# eg 3\n",
    "def myGen(n):\n",
    "    yield n\n",
    "    yield n + 1 # after this it will raise StopIteration error\n",
    "    \n",
    " ```"
   ]
  },
  {
   "cell_type": "markdown",
   "metadata": {},
   "source": [
    "## map()  - Reducing the usage of loops in Python:\n",
    "\n",
    "map() function returns a map object(which is an iterator) of the results after applying the given function to each item of a given iterable (list, tuple etc.)\n",
    "\n",
    "```python\n",
    "map(fun, iter)\n",
    "```\n",
    "\n",
    "__Why use map__\n",
    "\n",
    "map function returns an map oject that can be converted into sequence objects such as list, tuple etc. using their factory functions."
   ]
  },
  {
   "cell_type": "code",
   "execution_count": 8,
   "metadata": {},
   "outputs": [
    {
     "name": "stdout",
     "output_type": "stream",
     "text": [
      "APPLE\n",
      "BANANA\n",
      "ORANGE\n",
      "GRAPES\n"
     ]
    }
   ],
   "source": [
    "for i in ['apple','banana','orange','grapes']:\n",
    "    print(i.upper())"
   ]
  },
  {
   "cell_type": "code",
   "execution_count": 12,
   "metadata": {},
   "outputs": [
    {
     "data": {
      "text/plain": [
       "['APPLE', 'BANANA', 'ORANGE', 'GRAPES']"
      ]
     },
     "execution_count": 12,
     "metadata": {},
     "output_type": "execute_result"
    }
   ],
   "source": [
    "list(map(str.upper,['apple','banana','orange','grapes']))"
   ]
  },
  {
   "cell_type": "markdown",
   "metadata": {},
   "source": [
    "## reduce() "
   ]
  },
  {
   "cell_type": "code",
   "execution_count": 14,
   "metadata": {},
   "outputs": [
    {
     "data": {
      "text/plain": [
       "14"
      ]
     },
     "execution_count": 14,
     "metadata": {},
     "output_type": "execute_result"
    }
   ],
   "source": [
    "from functools import reduce\n",
    "reduce(lambda x,y: x+y,[2,3,4,5])"
   ]
  },
  {
   "cell_type": "code",
   "execution_count": null,
   "metadata": {},
   "outputs": [],
   "source": []
  }
 ],
 "metadata": {
  "kernelspec": {
   "display_name": "Python 3",
   "language": "python",
   "name": "python3"
  },
  "language_info": {
   "codemirror_mode": {
    "name": "ipython",
    "version": 3
   },
   "file_extension": ".py",
   "mimetype": "text/x-python",
   "name": "python",
   "nbconvert_exporter": "python",
   "pygments_lexer": "ipython3",
   "version": "3.8.2"
  }
 },
 "nbformat": 4,
 "nbformat_minor": 4
}

