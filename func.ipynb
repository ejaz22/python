{
 "cells": [
  {
   "cell_type": "markdown",
   "metadata": {},
   "source": [
    "# Functional python\n",
    "\n",
    "- when called, a function can take positional or named argument. Positional argument must be supplied befor named or keyword argument.\n",
    "- arguments are passed as reference (objects are not copied)\n",
    "- prefer excepetion to returning None (None, 0 and empty all evaluates to false in conditional expression)\n",
    "- A method is a function inside of an object.\n",
    "- Higher-order functions either take functions as arguments or return functions as output.\n",
    "\n",
    "__topics__\n",
    "- itertools and collection\n",
    "- exception handling\n",
    "- MRO magic functions and dunder"
   ]
  },
  {
   "cell_type": "markdown",
   "metadata": {},
   "source": [
    "__Q What is the difference in assertion and exception?__\n",
    "\n",
    "assertions are statements which can raise errors, but you won't be catching them.\n",
    "\n",
    "```python\n",
    "\n",
    "def mymethod(listOfTuples):\n",
    "    assert(all(type(tp)==tuple for tp in listOfTuples))\n",
    "\n",
    "    \n",
    "# gives positive or negative message\n",
    "\n",
    "assert a == b, 'a is not equal to b'\n",
    "#AssertionError: a must be equal to b\n",
    "```"
   ]
  },
  {
   "cell_type": "markdown",
   "metadata": {},
   "source": [
    "__Q. List the functional approach that Python is taking.__\n",
    "\n",
    "- map\n",
    "- filter\n",
    "- reduce\n",
    "- lambda\n",
    "- list comprehension"
   ]
  },
  {
   "cell_type": "markdown",
   "metadata": {},
   "source": [
    "__Q. What is lambda function in Python?__\n",
    "\n",
    "A lambda function is an anonymous function (a function that does not have a name) in Python. To define anonymous functions, we use the ‘lambda’ keyword instead of the ‘def’ keyword, hence the name ‘lambda function’. Lambda functions can have any number of arguments but only one statement."
   ]
  },
  {
   "cell_type": "markdown",
   "metadata": {},
   "source": [
    "__Q. What is self in python?__\n",
    "\n",
    "The self in Python represents the instance of the class. It binds the attributes with the given arguments. The use of self makes it easier to distinguish between instance attributes (and methods) from local variables.\n"
   ]
  },
  {
   "cell_type": "markdown",
   "metadata": {},
   "source": [
    "__Q. What is _init_ Python?__\n",
    "\n",
    "Equivalent to constructors in OOP terminology, __init__ is a reserved method in Python classes. \n",
    "The __init__ method is called automatically whenever a new object is initiated. \n",
    "This method allocates memory to the new object as soon as it is created. This method can also be used to initialize variables\n",
    "\n",
    "\n",
    "_int_.py is used to import a module in a directory which is called as package import. Usually _init_.py is an empty py file."
   ]
  },
  {
   "cell_type": "markdown",
   "metadata": {},
   "source": [
    "## Closures\n",
    "\n",
    "Closure interact with variable scope\n",
    "\n",
    "__Global and Local Variables__\n",
    "\n",
    "Variables defined outside functions are global variables. Their values may be accessed inside\n",
    "functions without declaration.\n",
    "\n",
    "To modify to a global variable inside a function, the variable must be declared inside the function\n",
    "using the keyword global.\n",
    "\n",
    "__global vs nonlocal__\n",
    "\n",
    "Nonlocal is similar in meaning to global. But it takes effect primarily in nested methods. It means \"not a global or local variable.\" So it changes the identifier to refer to an enclosing method's variable. \n",
    "\n",
    "__Nested Function__\n",
    "\n",
    "A function defined inside another function is simply called a nested function.  Nested functions are able to access variables of the enclosing scope.\n",
    "\n",
    "__Closure__\n",
    "\n",
    "A Python3 closure is when some data gets attached to the code. So, this value is remembered even when the variable goes out of scope, or the function is removed from the namespace. \n",
    "\n",
    "- Objects are data with methods attached, closures are functions with data attached.\n",
    "- Closures provide some sort of data hiding as they are used as callback functions. This helps us to reduce the use of global variables.\n",
    "- Useful for replacing hard-coded constants.\n",
    "- Closures prove to be efficient way when we have few functions in our code.\n",
    "\n",
    "__Criteria__\n",
    "\n",
    "- We must have a nested function (function inside a function).\n",
    "- The nested function must refer to a value defined in the enclosing function.\n",
    "- The enclosing function must return the nested function.\n"
   ]
  },
  {
   "cell_type": "code",
   "execution_count": 3,
   "metadata": {},
   "outputs": [],
   "source": [
    "# a nested function accessing a non-local variable.\n",
    "\n",
    "def print_msg(x):   # This is the outer enclosing function, 'x' is variable of enclosing scope (nonlocal)\n",
    "    def printer():  # This is the nested function\n",
    "        print(x)\n",
    "    printer()      # call the function "
   ]
  },
  {
   "cell_type": "code",
   "execution_count": 4,
   "metadata": {},
   "outputs": [],
   "source": [
    "# closure function \n",
    "def print_msg(x):   # This is the outer enclosing function\n",
    "    def printer():    # This is the nested function\n",
    "        print(x)\n",
    "    return printer  # return the function (object)\n",
    "\n"
   ]
  },
  {
   "cell_type": "code",
   "execution_count": 1,
   "metadata": {},
   "outputs": [
    {
     "name": "stdout",
     "output_type": "stream",
     "text": [
      "1 2 1 2\n"
     ]
    }
   ],
   "source": [
    "# A closure allows you to bind variables into a function without passing them as parameters.\n",
    "\n",
    "# if nonlocal keyword is not used, it will throw UnboundLocalError.\n",
    " \n",
    "j  = 0 # global variable\n",
    "def make_counter():\n",
    "    i = 0           # nonlocal variable\n",
    "    def counter(): # counter() is a closure\n",
    "        nonlocal i\n",
    "        i += 1     # value of i being change by nonlocal variable\n",
    "        return i\n",
    "    return counter\n",
    "\n",
    "c1 = make_counter()\n",
    "c2 = make_counter()\n",
    "\n",
    "print (c1(), c1(), c2(), c2())"
   ]
  },
  {
   "cell_type": "markdown",
   "metadata": {},
   "source": [
    "# Decorators\n",
    "\n",
    "- decorators dynamically alters the functionality of a function, method or class without changing the source code.\n",
    "- Decorators are used to enhance existing functions without changing their definition.\n",
    "- decorators take function as a parameter and return function\n",
    "- @property decorator allows to use a function as an attribute"
   ]
  },
  {
   "cell_type": "code",
   "execution_count": 6,
   "metadata": {},
   "outputs": [
    {
     "name": "stdout",
     "output_type": "stream",
     "text": [
      "I AM ANTHONY GONZALVIS\n"
     ]
    }
   ],
   "source": [
    "# decorator function\n",
    "def capitalize(func):  # decorator function taking funcion as paraeter\n",
    "  def uppercase(x):  # inner function taking decorators function parameter.\n",
    "    result = func(x)\n",
    "    return result.upper()\n",
    "  return uppercase\n",
    "\n",
    "# function without parameter\n",
    "@capitalize                    # decorator function\n",
    "def say_hello(x):              # argument for decorator\n",
    "  return x\n",
    "\n",
    "# call function\n",
    "print(say_hello('i am anthony gonzalvis'))"
   ]
  },
  {
   "cell_type": "code",
   "execution_count": 7,
   "metadata": {},
   "outputs": [
    {
     "name": "stdout",
     "output_type": "stream",
     "text": [
      "144\n",
      "625\n"
     ]
    }
   ],
   "source": [
    "def square(func):\n",
    "  def multiply(x,y):\n",
    "    f = func(x,y)\n",
    "    return f * f\n",
    "  return multiply\n",
    "\n",
    "@square\n",
    "def addition(x,y):\n",
    "  return x + y\n",
    "\n",
    "print(addition(5,7))\t# 144\n",
    "print(addition(15,10))\t# 625"
   ]
  },
  {
   "cell_type": "markdown",
   "metadata": {},
   "source": [
    "## Generators\n",
    "\n",
    "Iterators are containers for objects so that you can loop over the objects. To create a Python iterator object, you will need to implement two methods in your iterator class. vis iter() and next(). A Generator function returns an iterator object.It uses yield statement.\n",
    "\n",
    "Benefit : Store one element a time in memory\n",
    "\n",
    "When a generator function is called, it returns an generator object without even beginning execution of the function. When next() method is called for the first time, the function starts executing until it reaches yield statement which returns the yielded value. The yield keeps track of i.e. remembers last execution. And second next() call continues from previous value.\n",
    "\n",
    "Generators are a lazy way to build iterables. They are useful when the fully realized list would not fit in memory, or when the cost to calculate each list element is high and you want to do it as late as possible. But they can only be iterated over once.\n",
    "\n",
    "\n",
    "```python\n",
    "# eg 1\n",
    "def count_function(n):\n",
    "    for i in range(100):\n",
    "        yield n\n",
    "        n+=1\n",
    "# eg 2\n",
    "def vowels():\n",
    "    yield a\n",
    "    yield e\n",
    "    yield i\n",
    "    yield o\n",
    "    yield u\n",
    "    \n",
    "    \n",
    "# eg 3\n",
    "def myGen(n):\n",
    "    yield n\n",
    "    yield n + 1 # after this it will raise StopIteration error\n",
    "    \n",
    " ```"
   ]
  },
  {
   "cell_type": "markdown",
   "metadata": {},
   "source": [
    "__Q.11. What is the difference between iterator protocol and generators?__\n",
    "\n",
    "Any object that support iter() and next() is said to be iterable. The iterator protocol for Python declares that we must make use of two functions to build an iterator- iter() and next().\n",
    "\n",
    "iter()- To create an iterator\n",
    "\n",
    "next()- To iterate to the next element\n",
    "\n",
    "```python\n",
    "a=iter([2,4,6,8,10])\n",
    "next(a)\n",
    "```\n",
    "\n",
    "__Generator__\n",
    "\n",
    "a generator function is more convenient way of writing an iterator. We don't have to worry about iterator protocol. A generator solution is based on pipelining data between different components\n",
    "\n",
    "__How Generator Works__\n",
    "\n",
    "- calling a generator function creates a generator object.\n",
    "- the function only execute on next()\n",
    "- yield produces a value but suspends the function.\n",
    "- function resume on next call to next()"
   ]
  },
  {
   "cell_type": "code",
   "execution_count": 11,
   "metadata": {},
   "outputs": [
    {
     "data": {
      "text/plain": [
       "1"
      ]
     },
     "execution_count": 11,
     "metadata": {},
     "output_type": "execute_result"
    }
   ],
   "source": [
    "# generator comprehension\n",
    "\n",
    "a = [1,2,3,4,5]\n",
    "b = (x*x for x in a)\n",
    "\n",
    "next(b)"
   ]
  },
  {
   "cell_type": "markdown",
   "metadata": {},
   "source": [
    "__Q.What are the generators in Python?__\n",
    "\n",
    "A generator is simply a function that returns an object on which you can call next, such that for every call it returns some value until it raises a Stop. Iteration exception, signaling that all values have been generated. Such an object is called an iterator. Normal functions return a single value using return, just like in Java. In Python, however, there is an alternative, called yield. Using yield anywhere in a function makes it a generator.\n",
    "\n",
    "_What can you use Python generator functions for?_\n",
    "\n",
    "One of the reasons so use a generator is to make the solution clearer for some kind of solution. The other is to treat results one at a time, avoiding building huge lists of results that you would process separated anyway.\n",
    "\n",
    "_When is it not a good time to use python generators?_\n",
    "\n",
    "Use list instead of a generator when:\n",
    "\n",
    " • You need to access the data multiple times (i.e. cache the results instead of recomputing them)\n",
    "\n",
    " • You need random access (or any access other than forwarding sequential order):\n",
    "\n",
    " • You need to join strings (which requires two passes over the data)"
   ]
  },
  {
   "cell_type": "markdown",
   "metadata": {},
   "source": [
    "## map()  - Reducing the usage of loops in Python:\n",
    "\n",
    "map() function returns a map object(which is an iterator) of the results after applying the given function to each item of a given iterable (list, tuple etc.)\n",
    "\n",
    "```python\n",
    "map(fun, iter)\n",
    "```\n",
    "\n",
    "__Why use map__\n",
    "\n",
    "map function returns an map oject that can be converted into sequence objects such as list, tuple etc. using their factory functions."
   ]
  },
  {
   "cell_type": "code",
   "execution_count": 8,
   "metadata": {},
   "outputs": [
    {
     "name": "stdout",
     "output_type": "stream",
     "text": [
      "APPLE\n",
      "BANANA\n",
      "ORANGE\n",
      "GRAPES\n"
     ]
    }
   ],
   "source": [
    "for i in ['apple','banana','orange','grapes']:\n",
    "    print(i.upper())"
   ]
  },
  {
   "cell_type": "code",
   "execution_count": 9,
   "metadata": {},
   "outputs": [
    {
     "data": {
      "text/plain": [
       "['APPLE', 'BANANA', 'ORANGE', 'GRAPES']"
      ]
     },
     "execution_count": 9,
     "metadata": {},
     "output_type": "execute_result"
    }
   ],
   "source": [
    "list(map(str.upper,['apple','banana','orange','grapes']))"
   ]
  },
  {
   "cell_type": "markdown",
   "metadata": {},
   "source": [
    "## reduce()  - "
   ]
  },
  {
   "cell_type": "code",
   "execution_count": 18,
   "metadata": {},
   "outputs": [
    {
     "data": {
      "text/plain": [
       "14"
      ]
     },
     "execution_count": 18,
     "metadata": {},
     "output_type": "execute_result"
    }
   ],
   "source": [
    "from functools import reduce\n",
    "reduce(lambda x,y: x+y,[2,3,4,5])"
   ]
  },
  {
   "cell_type": "markdown",
   "metadata": {},
   "source": [
    "## filter()  - reducing the use of for loop and if statement"
   ]
  },
  {
   "cell_type": "code",
   "execution_count": 19,
   "metadata": {},
   "outputs": [
    {
     "data": {
      "text/plain": [
       "[1, 2, 3]"
      ]
     },
     "execution_count": 19,
     "metadata": {},
     "output_type": "execute_result"
    }
   ],
   "source": [
    "list(filter(lambda x: x>0, [1,2,-5,-4,3]))"
   ]
  },
  {
   "cell_type": "markdown",
   "metadata": {},
   "source": [
    "# Recursion\n",
    "\n",
    "a recursive function is that functioon that call itself in its definition.\n",
    "\n",
    "__Q. I'm getting a maximum recursion depth error for a function. What does this mean? How can I mitigate the problem?__\n",
    "\n",
    "Getting or setting the max recursion depth for the interpreter\n",
    "\n",
    "```python\n",
    "import sys\n",
    "sys.getrecursionlimit() \n",
    "sys.setrecursionlimit()\n",
    "```\n",
    "\n",
    "We can limit it to prevent a stack overflow caused by infinite recursion."
   ]
  },
  {
   "cell_type": "markdown",
   "metadata": {},
   "source": [
    "# Class\n",
    "\n",
    "\n",
    "- the class in python provides a blueprint to create objects.\n",
    "- class is made of attribute(data) and methods(functions)\n",
    "- attributes that applied to whole classes are described first and called class attribute\n",
    "- magic methods are dunder methods \n",
    "- monkey patching is adding a new variable of method to a class after it is defined\n",
    "- instance variable are unique for each instance while class variable are shared by all instances"
   ]
  },
  {
   "cell_type": "code",
   "execution_count": null,
   "metadata": {},
   "outputs": [],
   "source": []
  }
 ],
 "metadata": {
  "kernelspec": {
   "display_name": "Python 3",
   "language": "python",
   "name": "python3"
  },
  "language_info": {
   "codemirror_mode": {
    "name": "ipython",
    "version": 3
   },
   "file_extension": ".py",
   "mimetype": "text/x-python",
   "name": "python",
   "nbconvert_exporter": "python",
   "pygments_lexer": "ipython3",
   "version": "3.8.2"
  }
 },
 "nbformat": 4,
 "nbformat_minor": 4
}
